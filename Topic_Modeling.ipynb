{
  "nbformat": 4,
  "nbformat_minor": 0,
  "metadata": {
    "colab": {
      "provenance": [],
      "toc_visible": true,
      "authorship_tag": "ABX9TyPyCugWOkAI+4CBKHjY7WLg",
      "include_colab_link": true
    },
    "kernelspec": {
      "name": "python3",
      "display_name": "Python 3"
    },
    "language_info": {
      "name": "python"
    }
  },
  "cells": [
    {
      "cell_type": "markdown",
      "metadata": {
        "id": "view-in-github",
        "colab_type": "text"
      },
      "source": [
        "<a href=\"https://colab.research.google.com/github/eunyhwang/TextMining/blob/main/Topic_Modeling.ipynb\" target=\"_parent\"><img src=\"https://colab.research.google.com/assets/colab-badge.svg\" alt=\"Open In Colab\"/></a>"
      ]
    },
    {
      "cell_type": "code",
      "source": [
        "!pip install requests beautifulsoup4\n",
        "!pip install konlpy"
      ],
      "metadata": {
        "colab": {
          "base_uri": "https://localhost:8080/"
        },
        "id": "jWlqYcJqIpdd",
        "outputId": "30d972b6-f2c0-41aa-f9e6-a75f414ef3bc"
      },
      "execution_count": null,
      "outputs": [
        {
          "output_type": "stream",
          "name": "stdout",
          "text": [
            "Requirement already satisfied: requests in /usr/local/lib/python3.10/dist-packages (2.31.0)\n",
            "Requirement already satisfied: beautifulsoup4 in /usr/local/lib/python3.10/dist-packages (4.12.3)\n",
            "Requirement already satisfied: charset-normalizer<4,>=2 in /usr/local/lib/python3.10/dist-packages (from requests) (3.3.2)\n",
            "Requirement already satisfied: idna<4,>=2.5 in /usr/local/lib/python3.10/dist-packages (from requests) (3.7)\n",
            "Requirement already satisfied: urllib3<3,>=1.21.1 in /usr/local/lib/python3.10/dist-packages (from requests) (2.0.7)\n",
            "Requirement already satisfied: certifi>=2017.4.17 in /usr/local/lib/python3.10/dist-packages (from requests) (2024.2.2)\n",
            "Requirement already satisfied: soupsieve>1.2 in /usr/local/lib/python3.10/dist-packages (from beautifulsoup4) (2.5)\n",
            "Collecting konlpy\n",
            "  Downloading konlpy-0.6.0-py2.py3-none-any.whl (19.4 MB)\n",
            "\u001b[2K     \u001b[90m━━━━━━━━━━━━━━━━━━━━━━━━━━━━━━━━━━━━━━━━\u001b[0m \u001b[32m19.4/19.4 MB\u001b[0m \u001b[31m47.8 MB/s\u001b[0m eta \u001b[36m0:00:00\u001b[0m\n",
            "\u001b[?25hCollecting JPype1>=0.7.0 (from konlpy)\n",
            "  Downloading JPype1-1.5.0-cp310-cp310-manylinux_2_17_x86_64.manylinux2014_x86_64.whl (488 kB)\n",
            "\u001b[2K     \u001b[90m━━━━━━━━━━━━━━━━━━━━━━━━━━━━━━━━━━━━━━━━\u001b[0m \u001b[32m488.6/488.6 kB\u001b[0m \u001b[31m46.5 MB/s\u001b[0m eta \u001b[36m0:00:00\u001b[0m\n",
            "\u001b[?25hRequirement already satisfied: lxml>=4.1.0 in /usr/local/lib/python3.10/dist-packages (from konlpy) (4.9.4)\n",
            "Requirement already satisfied: numpy>=1.6 in /usr/local/lib/python3.10/dist-packages (from konlpy) (1.25.2)\n",
            "Requirement already satisfied: packaging in /usr/local/lib/python3.10/dist-packages (from JPype1>=0.7.0->konlpy) (24.0)\n",
            "Installing collected packages: JPype1, konlpy\n",
            "Successfully installed JPype1-1.5.0 konlpy-0.6.0\n"
          ]
        }
      ]
    },
    {
      "cell_type": "code",
      "source": [],
      "metadata": {
        "id": "1KSLQ1r6JJFZ"
      },
      "execution_count": null,
      "outputs": []
    },
    {
      "cell_type": "markdown",
      "source": [
        "# Web Crawling: Naver News"
      ],
      "metadata": {
        "id": "mR1zRuoZJsH2"
      }
    },
    {
      "cell_type": "code",
      "source": [
        "import requests\n",
        "from bs4 import BeautifulSoup\n",
        "\n",
        "url = f\"https://openapi.naver.com/v1/search/news.json?query={'지속가능성'}&display={100}&start={1}&sort={'date'}\"\n",
        "headers = {\n",
        "    'X-Naver-Client-Id': '',\n",
        "    'X-Naver-Client-Secret': ''\n",
        "}\n",
        "\n",
        "response = requests.get(url, headers = headers)\n",
        "#print(response)\n",
        "\n",
        "soup = BeautifulSoup(response.content, 'html.parser')\n",
        "title = soup.find('h1').get_text() if soup.find('h1') else 'No Title'\n",
        "paragraphs = soup.find_all('p')\n",
        "content = ' '.join([para.get_text() for para in paragraphs])\n",
        "\n",
        "print({\n",
        "    'title': title,\n",
        "    'content': content\n",
        "})"
      ],
      "metadata": {
        "colab": {
          "base_uri": "https://localhost:8080/"
        },
        "id": "Ff3GGRJdMD-l",
        "outputId": "3a81896f-089d-4b33-e01d-0d9703fbd883"
      },
      "execution_count": null,
      "outputs": [
        {
          "output_type": "stream",
          "name": "stdout",
          "text": [
            "{'title': 'No Title', 'content': ''}\n"
          ]
        }
      ]
    },
    {
      "cell_type": "code",
      "source": [
        "### Collecting 1,000 articles with Naver API\n",
        "\n",
        "import requests\n",
        "import json\n",
        "import html # for decoding\n",
        "\n",
        "client_id = ''\n",
        "client_secret = ''\n",
        "\n",
        "def get_news(query, display=100, start=1, sort='date'):\n",
        "    url = f\"https://openapi.naver.com/v1/search/news.json?query={query}&display={display}&start={start}&sort={sort}\"\n",
        "    headers = {\n",
        "        'X-Naver-Client-Id': client_id,\n",
        "        'X-Naver-Client-Secret': client_secret\n",
        "    }\n",
        "    response = requests.get(url, headers=headers)\n",
        "    if response.status_code == 200:\n",
        "        return response.json()\n",
        "    else:\n",
        "        return None\n",
        "\n",
        "def extract_articles(response):\n",
        "    articles = []\n",
        "    if response:\n",
        "        for item in response.get('items', []):\n",
        "            title = html.unescape(item.get('title'))\n",
        "            #print('this is title:',title)\n",
        "            description = html.unescape(item.get('description')) #for decoding\n",
        "            description = BeautifulSoup(description, 'html.parser').get_text() #for getting only text\n",
        "            #print('this is description:',description)\n",
        "            articles.append({'title': title, 'description': description })\n",
        "    return articles\n",
        "\n",
        "query = \"지속가능성\"\n",
        "articles = []\n",
        "\n",
        "for start in range(1, 101, 100):\n",
        "    response = get_news(query, start=start)\n",
        "    articles.extend(extract_articles(response))\n",
        "\n",
        "with open('articles.json', 'w', encoding='utf-8') as f:\n",
        "    json.dump(articles, f, ensure_ascii=False, indent=4)\n",
        "\n",
        "print(f\"Total articles collected: {len(articles)}\")\n"
      ],
      "metadata": {
        "colab": {
          "base_uri": "https://localhost:8080/"
        },
        "id": "-dJSTupdIuc7",
        "outputId": "5a4435c0-48e1-430d-f575-8f71150c4dfd"
      },
      "execution_count": null,
      "outputs": [
        {
          "output_type": "stream",
          "name": "stdout",
          "text": [
            "Total articles collected: 100\n"
          ]
        }
      ]
    },
    {
      "cell_type": "code",
      "source": [
        "articles[0]['description']"
      ],
      "metadata": {
        "colab": {
          "base_uri": "https://localhost:8080/",
          "height": 55
        },
        "id": "ROll9u89Upge",
        "outputId": "d5f3ec29-602d-4bb3-dd5f-fb5700b37a23"
      },
      "execution_count": null,
      "outputs": [
        {
          "output_type": "execute_result",
          "data": {
            "text/plain": [
              "'LG화학 CSSO 이종구 부사장은 \"LG화학은 전지 소재, 친환경 지속가능 소재 등 비즈니스 포트폴리오를 지속가능성에 기반하여 구축할 뿐만 아니라, 사용 에너지까지 친환경 에너지로 전환하여 고객들에게 차별화된... '"
            ],
            "application/vnd.google.colaboratory.intrinsic+json": {
              "type": "string"
            }
          },
          "metadata": {},
          "execution_count": 27
        }
      ]
    },
    {
      "cell_type": "code",
      "source": [
        "import requests\n",
        "import csv\n",
        "from bs4 import BeautifulSoup\n",
        "\n",
        "def scrape_articles(url):\n",
        "    articles = []\n",
        "\n",
        "    response = requests.get(url)\n",
        "    if response.status_code == 200:\n",
        "        soup = BeautifulSoup(response.content, 'html.parser')\n",
        "\n",
        "        # Find all <a> tags within the specified class\n",
        "        article_links = soup.find('ul', class_='news_list ranking')\n",
        "        ('news_list ranking a[href]')\n",
        "        print('this is the links:',article_links)\n",
        "        # Extract the href attribute from each <a> tag\n",
        "        for link in article_links:\n",
        "            article_url = link['href']\n",
        "            print(\"this is the url:\",article_url)\n",
        "            # Fetch the full content of the article\n",
        "            article_content = scrape_article_content(article_url)\n",
        "\n",
        "            # Create a dictionary representing the article and add it to the list\n",
        "            articles.append({\n",
        "                'url': article_url,\n",
        "                'content': article_content\n",
        "            })\n",
        "\n",
        "    return articles\n",
        "\n",
        "def scrape_article_content(article_url):\n",
        "    # Send a GET request to the article URL\n",
        "    response = requests.get(article_url)\n",
        "    if response.status_code == 200:\n",
        "        # Parse the HTML content\n",
        "        soup = BeautifulSoup(response.content, 'html.parser')\n",
        "\n",
        "        # Find and extract the content of the article\n",
        "        # Specifically target the \"cont_body\" class\n",
        "        article_content = soup.find('div', class_='cont_body').text.strip()\n",
        "       #print(article_content)\n",
        "        return article_content\n",
        "    else:\n",
        "        return None\n",
        "\n",
        "# URL of the Digital Chosun website\n",
        "base_url = 'https://digitalchosun.dizzo.com/svc/news/ranking.html'\n",
        "articles = scrape_articles(base_url)\n"
      ],
      "metadata": {
        "colab": {
          "base_uri": "https://localhost:8080/"
        },
        "id": "C4z6j-xZZ2HK",
        "outputId": "b22a629d-bd66-4ba7-e668-c457ad1d3814"
      },
      "execution_count": null,
      "outputs": [
        {
          "output_type": "stream",
          "name": "stdout",
          "text": [
            "this is the links: []\n"
          ]
        }
      ]
    },
    {
      "cell_type": "markdown",
      "source": [
        "## BBC Page article crawling"
      ],
      "metadata": {
        "id": "nxYBUYExcKJp"
      }
    },
    {
      "cell_type": "code",
      "source": [
        "import requests\n",
        "import csv\n",
        "from bs4 import BeautifulSoup\n",
        "\n",
        "def scrape_articles(url):\n",
        "  article_hrefs = []\n",
        "  response = requests.get(url)\n",
        "  if response.status_code == 200:\n",
        "    soup = BeautifulSoup(response.content, 'html.parser')\n",
        "    news_lists = soup.find_all('div', class_='promo-text')\n",
        "    for news_list in news_lists:\n",
        "      article_links = news_list.find_all('a', href=True)\n",
        "      for article_link in article_links:\n",
        "        article_url = article_link['href']\n",
        "        article_hrefs.append(article_url)\n",
        "\n",
        "  else:\n",
        "    print('failed')\n",
        "\n",
        "  return article_hrefs\n",
        "\n",
        "def scrape_article_content(article_url):\n",
        "  response = requests.get(article_url)\n",
        "  content_text = ''\n",
        "  if response.status_code == 200:\n",
        "    soup = BeautifulSoup(response.content, 'html.parser')\n",
        "    article_content = soup.find_all('p', class_='bbc-1uhqor3 e17g058b0')\n",
        "    for article in article_content:\n",
        "      content_text += article.get_text(separator='\\n').strip() + ('\\n')\n",
        "\n",
        "    return content_text.strip()\n",
        "\n",
        "  else:\n",
        "    print('failed')\n"
      ],
      "metadata": {
        "id": "xctmbbwZiwpA"
      },
      "execution_count": null,
      "outputs": []
    },
    {
      "cell_type": "code",
      "source": [
        "url = \"https://www.bbc.com/korean/topics/cz74kjy812kt\"\n",
        "article_hrefs = scrape_articles(url)\n",
        "\n",
        "# Scrape content for each article URL and save to CSV\n",
        "with open('articles.csv', 'w', newline='', encoding='utf-8') as csvfile:\n",
        "    csv_writer = csv.writer(csvfile)\n",
        "    csv_writer.writerow(['URL', 'Content'])\n",
        "\n",
        "    for href in article_hrefs:\n",
        "        content = scrape_article_content(href)\n",
        "        if content:\n",
        "          #print(\"this is href:\",href)\n",
        "          #print(\"this is content:\", content)\n",
        "          csv_writer.writerow([href, content])\n",
        "    print(\"CSV file saved successfully.\")"
      ],
      "metadata": {
        "colab": {
          "base_uri": "https://localhost:8080/"
        },
        "id": "4-Bl510oj6nb",
        "outputId": "a29b64c6-ccb2-4456-d6ab-3a0138103247"
      },
      "execution_count": null,
      "outputs": [
        {
          "output_type": "stream",
          "name": "stdout",
          "text": [
            "CSV file saved successfully.\n"
          ]
        }
      ]
    },
    {
      "cell_type": "markdown",
      "source": [
        "## Load csv file"
      ],
      "metadata": {
        "id": "ckqSinVbfnDQ"
      }
    },
    {
      "cell_type": "code",
      "source": [
        "import pandas as pd\n",
        "\n",
        "# Load the CSV file\n",
        "df = pd.read_csv('articles.csv')\n",
        "print(df.head())"
      ],
      "metadata": {
        "colab": {
          "base_uri": "https://localhost:8080/"
        },
        "id": "nGD8QjN-nadj",
        "outputId": "15908039-66df-41ef-cd47-73d2e4dbe2db"
      },
      "execution_count": null,
      "outputs": [
        {
          "output_type": "stream",
          "name": "stdout",
          "text": [
            "                                                URL  \\\n",
            "0  https://www.bbc.com/korean/articles/cp667r0gdd5o   \n",
            "1  https://www.bbc.com/korean/articles/cld0y0qqdq2o   \n",
            "2  https://www.bbc.com/korean/articles/cxr3d6e3v3xo   \n",
            "3  https://www.bbc.com/korean/articles/cl4038rez86o   \n",
            "4  https://www.bbc.com/korean/articles/cz4xw40952do   \n",
            "\n",
            "                                             Content  \n",
            "0  지난 21일 영국 런던에서 출발해 싱가포르로 향하던 싱가포르항공 여객기가 심한 난기...  \n",
            "1  LP를 많이 소비하는 영국에선 이 분야의 탄소 배출량이 사람 400명의 연간 배출량...  \n",
            "2  미국 콜로라도에 있는 맥주 회사 ‘뉴 벨지움 브루잉’의 시작은 창업자들이 1988년...  \n",
            "3  지난 16일(현지시간) 하루 동안 아랍에미리트(UAE) 두바이가 기록적인 강우량을 ...  \n",
            "4  기후변화 때문에 스키 시즌이 점점 불확실해지고 있다. 그런데 최근 과거 인류의 방식...  \n"
          ]
        }
      ]
    },
    {
      "cell_type": "code",
      "source": [
        "len(df)"
      ],
      "metadata": {
        "id": "VYiOElWYftF8",
        "outputId": "6938289f-759a-44a0-eb08-b86dcd62abf9",
        "colab": {
          "base_uri": "https://localhost:8080/"
        }
      },
      "execution_count": null,
      "outputs": [
        {
          "output_type": "execute_result",
          "data": {
            "text/plain": [
              "20"
            ]
          },
          "metadata": {},
          "execution_count": 22
        }
      ]
    },
    {
      "cell_type": "markdown",
      "source": [
        "## Preprocessing"
      ],
      "metadata": {
        "id": "G20pyLjWoyaA"
      }
    },
    {
      "cell_type": "code",
      "source": [
        "pip install konlpy"
      ],
      "metadata": {
        "colab": {
          "base_uri": "https://localhost:8080/"
        },
        "id": "5wwFvKhs5KAE",
        "outputId": "d7339a59-e91c-4eaa-c860-b690354f53aa"
      },
      "execution_count": null,
      "outputs": [
        {
          "output_type": "stream",
          "name": "stdout",
          "text": [
            "Collecting konlpy\n",
            "  Downloading konlpy-0.6.0-py2.py3-none-any.whl (19.4 MB)\n",
            "\u001b[2K     \u001b[90m━━━━━━━━━━━━━━━━━━━━━━━━━━━━━━━━━━━━━━━━\u001b[0m \u001b[32m19.4/19.4 MB\u001b[0m \u001b[31m54.5 MB/s\u001b[0m eta \u001b[36m0:00:00\u001b[0m\n",
            "\u001b[?25hCollecting JPype1>=0.7.0 (from konlpy)\n",
            "  Downloading JPype1-1.5.0-cp310-cp310-manylinux_2_17_x86_64.manylinux2014_x86_64.whl (488 kB)\n",
            "\u001b[2K     \u001b[90m━━━━━━━━━━━━━━━━━━━━━━━━━━━━━━━━━━━━━━━━\u001b[0m \u001b[32m488.6/488.6 kB\u001b[0m \u001b[31m53.3 MB/s\u001b[0m eta \u001b[36m0:00:00\u001b[0m\n",
            "\u001b[?25hRequirement already satisfied: lxml>=4.1.0 in /usr/local/lib/python3.10/dist-packages (from konlpy) (4.9.4)\n",
            "Requirement already satisfied: numpy>=1.6 in /usr/local/lib/python3.10/dist-packages (from konlpy) (1.25.2)\n",
            "Requirement already satisfied: packaging in /usr/local/lib/python3.10/dist-packages (from JPype1>=0.7.0->konlpy) (24.0)\n",
            "Installing collected packages: JPype1, konlpy\n",
            "Successfully installed JPype1-1.5.0 konlpy-0.6.0\n"
          ]
        }
      ]
    },
    {
      "cell_type": "code",
      "source": [
        "from konlpy.tag import Okt\n",
        "import re\n",
        "\n",
        "# Initialize Okt tokenizer\n",
        "okt = Okt()\n",
        "\n",
        "def preprocess_korean_text(text):\n",
        "    # Remove special characters and numbers\n",
        "   # text = re.sub(r'\\d+', '', text)\n",
        "    text = re.sub(r'[^\\w\\s]', '', text)\n",
        "    # Tokenize text\n",
        "    tokens = okt.morphs(text, stem=True)\n",
        "    return ' '.join(tokens)\n",
        "\n",
        "# Apply preprocessing to the content column\n",
        "df['cleaned_content'] = df['Content'].apply(preprocess_korean_text)\n",
        "print(df['cleaned_content'].head())"
      ],
      "metadata": {
        "colab": {
          "base_uri": "https://localhost:8080/"
        },
        "id": "ujECH9M_4jDE",
        "outputId": "625674e9-6678-490e-e518-756584f92220"
      },
      "execution_count": null,
      "outputs": [
        {
          "output_type": "stream",
          "name": "stdout",
          "text": [
            "0    지난 21일 영국 런던 에서 출발 하다 싱가포르 로 향 하다 싱가포르항공 여객기 가...\n",
            "1    LP 를 많이 소비 하다 영국 에선 이 분야 의 탄소 배출량 이 사람 400 명의 ...\n",
            "2    미국 콜로라도 에 있다 맥주 회사 뉴 벨지움 브루잉 의 시작 은 창업 자 들이다 1...\n",
            "3    지난 16일 현지시간 하루 동안 아랍에미리트 UAE 두바이 가 기록 적 인 강우량 ...\n",
            "4    기후변화 때문 에 스키 시즌 이 점점 불확실하다 있다 그런데 최근 과거 인류 의 방...\n",
            "Name: cleaned_content, dtype: object\n"
          ]
        }
      ]
    },
    {
      "cell_type": "code",
      "source": [
        "print(df).head()"
      ],
      "metadata": {
        "id": "WuX617tZ5gdn"
      },
      "execution_count": null,
      "outputs": []
    },
    {
      "cell_type": "markdown",
      "source": [
        "## Vectorization"
      ],
      "metadata": {
        "id": "E5bMZpNV6ZVo"
      }
    },
    {
      "cell_type": "code",
      "source": [
        "from sklearn.feature_extraction.text import TfidfVectorizer\n",
        "\n",
        "# Initialize TF-IDF Vectorizer\n",
        "vectorizer = TfidfVectorizer(max_features=50)  # Adjust max_features as needed\n",
        "X = vectorizer.fit_transform(df['cleaned_content'])\n",
        "\n",
        "print(X.toarray())\n",
        "#print(vectorizer.get_feature_names_out())\n",
        "X.shape"
      ],
      "metadata": {
        "colab": {
          "base_uri": "https://localhost:8080/"
        },
        "id": "1fxFxi7_6YW9",
        "outputId": "a75f0fcc-0045-48bf-cc81-43cf4fe708e6"
      },
      "execution_count": null,
      "outputs": [
        {
          "output_type": "stream",
          "name": "stdout",
          "text": [
            "[[0.03976724 0.         0.         0.         0.         0.\n",
            "  0.         0.10255923 0.         0.         0.0310207  0.18814257\n",
            "  0.05913501 0.         0.         0.0845666  0.         0.04425724\n",
            "  0.06511394 0.0310207  0.         0.         0.         0.\n",
            "  0.         0.05913501 0.0310207  0.04191859 0.24189759 0.03255697\n",
            "  0.16767435 0.03418641 0.         0.         0.         0.06837282\n",
            "  0.21502008 0.08063253 0.         0.1988362  0.         0.17093205\n",
            "  0.37628513 0.03592105 0.         0.03976724 0.         0.02818887\n",
            "  0.75257027 0.0295675 ]\n",
            " [0.06691108 0.05219442 0.05752095 0.         0.04460738 0.\n",
            "  0.02482193 0.01917365 0.02118656 0.04029306 0.         0.09044647\n",
            "  0.04974933 0.04460738 0.1312934  0.01580989 0.         0.\n",
            "  0.01825977 0.03479628 0.09586826 0.         0.01825977 0.05219442\n",
            "  0.         0.11608177 0.05219442 0.04702058 0.19596734 0.01825977\n",
            "  0.02351029 0.05752095 0.         0.         0.06691108 0.09586826\n",
            "  0.1356697  0.16581852 0.01825977 0.         0.02351029 0.\n",
            "  0.33163704 0.         0.15755208 0.         0.05219442 0.09485936\n",
            "  0.81401819 0.09949866]\n",
            " [0.05509446 0.0429768  0.         0.         0.13773616 0.1297281\n",
            "  0.12263002 0.         0.05233492 0.04976586 0.0214884  0.16756528\n",
            "  0.         0.08264169 0.2594562  0.01952676 0.         0.\n",
            "  0.         0.0214884  0.0947253  0.20326247 0.         0.0214884\n",
            "  0.         0.02048176 0.         0.05807499 0.20480201 0.09021038\n",
            "  0.         0.02368133 0.         0.         0.08264169 0.\n",
            "  0.20480201 0.24203874 0.02255259 0.02754723 0.         0.\n",
            "  0.3723673  0.02488293 0.09729608 0.05509446 0.08595359 0.09763379\n",
            "  0.67026113 0.06144527]\n",
            " [0.02713399 0.         0.02332608 0.         0.         0.06389102\n",
            "  0.         0.18660864 0.         0.02450966 0.06349815 0.22006883\n",
            "  0.04034901 0.02713399 0.         0.03846767 0.         0.\n",
            "  0.13328568 0.02116605 0.06997824 0.         0.         0.\n",
            "  0.         0.10087253 0.08466419 0.         0.05501721 0.\n",
            "  0.0286019  0.06997824 0.         0.         0.         0.04665216\n",
            "  0.14671255 0.23840789 0.02221428 0.         0.25741711 0.09330432\n",
            "  0.31176417 0.02450966 0.         0.24420593 0.0423321  0.01923383\n",
            "  0.73356275 0.        ]\n",
            " [0.01618792 0.08839247 0.08349692 0.         0.         0.26681809\n",
            "  0.01801565 0.         0.03075422 0.         0.05050998 0.16411413\n",
            "  0.0481438  0.08093961 0.13340905 0.10327277 0.         0.0360313\n",
            "  0.01325286 0.02525499 0.11132922 0.01706367 0.01325286 0.03788249\n",
            "  0.         0.09628759 0.02525499 0.08531833 0.06564565 0.06626431\n",
            "  0.03412733 0.         0.         0.         0.         0.05566461\n",
            "  0.17505507 0.19693695 0.07951717 0.01618792 0.         0.01391615\n",
            "  0.4704605  0.         0.01905844 0.01618792 0.03788249 0.04589901\n",
            "  0.70022028 0.08425164]\n",
            " [0.         0.03069098 0.00845576 0.         0.01967228 0.\n",
            "  0.         0.02536729 0.07474779 0.00888481 0.01534549 0.13960713\n",
            "  0.02925324 0.00983614 0.         0.02091694 0.88129296 0.24082759\n",
            "  0.01610546 0.06138197 0.00845576 0.02073652 0.05636913 0.00767275\n",
            "  0.         0.04387985 0.01534549 0.03110478 0.17949488 0.01610546\n",
            "  0.04147304 0.01691152 0.         0.         0.01967228 0.00845576\n",
            "  0.05318367 0.09971938 0.00805273 0.00983614 0.         0.01691152\n",
            "  0.16619896 0.03553925 0.         0.05901684 0.06138197 0.01394463\n",
            "  0.19943875 0.03656655]\n",
            " [0.         0.01734383 0.03344914 0.01388    0.01111703 0.04580923\n",
            "  0.01237222 0.01433535 0.04752094 0.01506273 0.02167978 0.13524616\n",
            "  0.01653134 0.03890961 0.03272088 0.02758094 0.87431722 0.12372222\n",
            "  0.00910138 0.0303517  0.03822759 0.04687379 0.02275346 0.01734383\n",
            "  0.01106731 0.03306268 0.01300787 0.04687379 0.15403035 0.02730415\n",
            "  0.02343689 0.         0.         0.         0.02223406 0.0095569\n",
            "  0.07513676 0.08265043 0.00455069 0.01111703 0.         0.00477845\n",
            "  0.18032821 0.01004182 0.         0.01667555 0.01734383 0.02364081\n",
            "  0.33060173 0.02892985]\n",
            " [0.15080846 0.         0.         0.         0.         0.\n",
            "  0.         0.         0.         0.         0.         0.10192701\n",
            "  0.11212821 0.         0.         0.21380009 0.         0.\n",
            "  0.         0.11763913 0.         0.         0.         0.11763913\n",
            "  0.         0.11212821 0.         0.         0.20385402 0.12346511\n",
            "  0.         0.         0.         0.         0.         0.\n",
            "  0.30578102 0.10192701 0.         0.         0.15896697 0.25928879\n",
            "  0.30578102 0.         0.         0.         0.         0.\n",
            "  0.71348905 0.11212821]\n",
            " [0.05812678 0.02267109 0.04996942 0.07257329 0.05812678 0.17108519\n",
            "  0.         0.02498471 0.02760768 0.10500979 0.02267109 0.11785856\n",
            "  0.08643617 0.         0.         0.1236089  0.         0.\n",
            "  0.04758771 0.02267109 0.         0.21444975 0.07138157 0.02267109\n",
            "  0.         0.         0.06801327 0.         0.25536021 0.\n",
            "  0.09190703 0.07495414 0.         0.         0.         0.02498471\n",
            "  0.17678784 0.11785856 0.04758771 0.14531696 0.12254271 0.17489299\n",
            "  0.39286186 0.         0.03421704 0.05812678 0.04534218 0.1236089\n",
            "  0.68750826 0.06482713]\n",
            " [0.08054526 0.03141493 0.         0.         0.         0.\n",
            "  0.04481969 0.10386263 0.03825548 0.07275511 0.03141493 0.2177527\n",
            "  0.02994327 0.         0.04741395 0.05709422 0.         0.04481969\n",
            "  0.         0.         0.03462088 0.16980528 0.06594146 0.03141493\n",
            "  0.         0.02994327 0.03141493 0.         0.2177527  0.09891219\n",
            "  0.21225659 0.03462088 0.         0.         0.         0.03462088\n",
            "  0.2177527  0.13609544 0.03297073 0.08054526 0.08490264 0.\n",
            "  0.4355054  0.03637755 0.         0.         0.         0.02854711\n",
            "  0.70769628 0.02994327]\n",
            " [0.0333746  0.02603408 0.05738179 0.         0.         0.\n",
            "  0.         0.08607269 0.         0.06029337 0.07810223 0.11278456\n",
            "  0.04962897 0.0333746  0.         0.0709724  0.         0.\n",
            "  0.08197018 0.         0.0286909  0.         0.02732339 0.02603408\n",
            "  0.         0.04962897 0.18223853 0.03518012 0.13534147 0.08197018\n",
            "  0.28144093 0.08607269 0.         0.         0.         0.\n",
            "  0.18045529 0.15789838 0.02732339 0.         0.24626081 0.\n",
            "  0.31579677 0.         0.         0.2002476  0.05206815 0.11828734\n",
            "  0.72182118 0.04962897]\n",
            " [0.         0.02635682 0.02904658 0.         0.03378835 0.\n",
            "  0.01880164 0.08713973 0.04814396 0.01526021 0.07907046 0.1370193\n",
            "  0.05024422 0.         0.01988992 0.03592612 0.         0.\n",
            "  0.0691553  0.02635682 0.04356987 0.         0.02766212 0.02635682\n",
            "  0.         0.06280528 0.03953523 0.         0.20552895 0.01383106\n",
            "  0.03561624 0.05809316 0.         0.         0.05068252 0.02904658\n",
            "  0.20552895 0.19411068 0.01383106 0.11825921 0.01780812 0.07261645\n",
            "  0.39963963 0.01526021 0.01988992 0.         0.06589205 0.08382762\n",
            "  0.78786099 0.02512211]\n",
            " [0.03297367 0.07716397 0.05669246 0.08233751 0.         0.0388207\n",
            "  0.25687636 0.         0.         0.08935359 0.02572132 0.31200306\n",
            "  0.02451639 0.06594733 0.0776414  0.02337327 0.         0.07339325\n",
            "  0.         0.07716397 0.         0.03475749 0.02699515 0.02572132\n",
            "  0.         0.         0.02572132 0.03475749 0.28971713 0.02699515\n",
            "  0.         0.         0.         0.         0.03297367 0.05669246\n",
            "  0.17828746 0.11142967 0.02699515 0.13189467 0.         0.\n",
            "  0.51257646 0.         0.         0.06594733 0.07716397 0.1402396\n",
            "  0.57943426 0.04903277]\n",
            " [0.         0.04446161 0.         0.10674582 0.02849897 0.\n",
            "  0.         0.         0.05414306 0.         0.08892323 0.19261616\n",
            "  0.08475754 0.         0.16776264 0.         0.         0.\n",
            "  0.04666354 0.02223081 0.07349849 0.09012216 0.04666354 0.\n",
            "  0.         0.04237877 0.04446161 0.         0.250401   0.\n",
            "  0.         0.         0.         0.         0.         0.\n",
            "  0.11556969 0.09630808 0.02333177 0.02849897 0.         0.07349849\n",
            "  0.40449393 0.1801983  0.         0.05699794 0.04446161 0.08080557\n",
            "  0.75120301 0.12713631]\n",
            " [0.         0.00997325 0.05495516 0.01596287 0.07671171 0.\n",
            "  0.         0.0329731  0.         0.         0.03989298 0.13825918\n",
            "  0.00950604 0.03835585 0.         0.02718841 0.         0.\n",
            "  0.01046716 0.06981272 0.         0.         0.01046716 0.01994649\n",
            "  0.71277344 0.06654228 0.06981272 0.         0.09505318 0.02093432\n",
            "  0.01347695 0.01099103 0.         0.         0.1662087  0.01099103\n",
            "  0.12961798 0.11233558 0.04186865 0.08949699 0.01347695 0.05495516\n",
            "  0.29380075 0.04619489 0.01505243 0.03835585 0.00997325 0.06343963\n",
            "  0.51847191 0.02851812]\n",
            " [0.         0.02965448 0.04357435 0.         0.00633597 0.\n",
            "  0.         0.02178718 0.01203723 0.         0.00494241 0.02141147\n",
            "  0.00942176 0.0380158  0.04475693 0.01796491 0.         0.\n",
            "  0.00518718 0.01482724 0.04902115 0.03339367 0.00518718 0.01482724\n",
            "  0.         0.0235544  0.02471206 0.         0.06423441 0.01037436\n",
            "  0.         0.00544679 0.64582085 0.674524   0.0380158  0.01634038\n",
            "  0.05138753 0.05138753 0.03112309 0.         0.         0.00544679\n",
            "  0.15416259 0.01144633 0.00745949 0.0190079  0.01976965 0.01347368\n",
            "  0.27834912 0.01884352]\n",
            " [0.03737593 0.02915534 0.0321307  0.09333028 0.         0.0440036\n",
            "  0.         0.12852278 0.14201548 0.16880511 0.         0.15156778\n",
            "  0.         0.         0.         0.0794814  0.         0.12478781\n",
            "  0.06119848 0.08746603 0.09639209 0.         0.06119848 0.05831069\n",
            "  0.         0.0833686  0.         0.19698959 0.25261297 0.\n",
            "  0.         0.0321307  0.         0.         0.03737593 0.\n",
            "  0.22735167 0.25261297 0.         0.         0.19698959 0.06426139\n",
            "  0.27787426 0.03376102 0.0440036  0.         0.11662137 0.0794814\n",
            "  0.68205501 0.11115814]\n",
            " [0.         0.03640998 0.02006284 0.29138344 0.04667608 0.05495288\n",
            "  0.02597307 0.14043988 0.         0.23188923 0.03640998 0.17350845\n",
            "  0.01735216 0.         0.         0.01654309 0.         0.05194613\n",
            "  0.05731974 0.01820499 0.1003142  0.02460059 0.03821316 0.01820499\n",
            "  0.         0.13881729 0.09102495 0.         0.06309398 0.03821316\n",
            "  0.         0.02006284 0.         0.         0.09335216 0.02006284\n",
            "  0.17350845 0.11041447 0.03821316 0.         0.34440829 0.06018852\n",
            "  0.29969641 0.04216168 0.         0.         0.01820499 0.03308617\n",
            "  0.6940338  0.        ]\n",
            " [0.17782796 0.01067045 0.04703756 0.         0.04103722 0.\n",
            "  0.28924719 0.04703756 0.01299392 0.0370682  0.01067045 0.10169813\n",
            "  0.02034117 0.10943259 0.         0.05817818 0.         0.01522354\n",
            "  0.04479559 0.01067045 0.02351878 0.         0.02239779 0.04268181\n",
            "  0.         0.16272935 0.05335226 0.02883818 0.12943398 0.02239779\n",
            "  0.         0.07055633 0.         0.         0.04103722 0.03527817\n",
            "  0.09245284 0.12943398 0.         0.         0.         0.02351878\n",
            "  0.33283024 0.02471213 0.2576753  0.         0.0213409  0.08726727\n",
            "  0.75811333 0.06102351]\n",
            " [0.         0.0696572  0.05757437 0.22298231 0.13394644 0.05256613\n",
            "  0.02484499 0.2302975  0.02120623 0.08066097 0.0696572  0.16597252\n",
            "  0.04979553 0.02232441 0.         0.04747373 0.         0.07453496\n",
            "  0.05483019 0.         0.01919146 0.07059637 0.16449056 0.0348286\n",
            "  0.         0.08299255 0.0696572  0.02353212 0.12070728 0.05483019\n",
            "  0.         0.05757437 0.         0.         0.06697322 0.05757437\n",
            "  0.1508841  0.45265231 0.03655346 0.11162203 0.04706425 0.03838292\n",
            "  0.2866798  0.08066097 0.         0.         0.0348286  0.04747373\n",
            "  0.63371324 0.03319702]]\n"
          ]
        },
        {
          "output_type": "execute_result",
          "data": {
            "text/plain": [
              "(20, 50)"
            ]
          },
          "metadata": {},
          "execution_count": 5
        }
      ]
    },
    {
      "cell_type": "code",
      "source": [
        "### Intuitive Explanation of TF-IDF Vectorizer\n",
        "\n",
        "from sklearn.feature_extraction.text import TfidfVectorizer\n",
        "\n",
        "# Example documents\n",
        "documents = [\n",
        "    \"The sky is blue.\",\n",
        "    \"The sun is bright.\",\n",
        "    \"The sun in the sky is bright.\",\n",
        "    \"We can see the shining sun, the bright sun.\"\n",
        "]\n",
        "\n",
        "# Initialize TF-IDF Vectorizer\n",
        "vectorizer = TfidfVectorizer()\n",
        "\n",
        "# Fit and transform the documents\n",
        "X = vectorizer.fit_transform(documents)\n",
        "\n",
        "# Display the TF-IDF matrix\n",
        "print(X.toarray())\n",
        "\n",
        "# Display the feature names (words)\n",
        "print(vectorizer.get_feature_names_out())"
      ],
      "metadata": {
        "colab": {
          "base_uri": "https://localhost:8080/"
        },
        "id": "sQMVhrc49JGV",
        "outputId": "e4399498-6146-4348-93a8-107bb4e6279a"
      },
      "execution_count": null,
      "outputs": [
        {
          "output_type": "stream",
          "name": "stdout",
          "text": [
            "[[0.65919112 0.         0.         0.         0.42075315 0.\n",
            "  0.         0.51971385 0.         0.34399327 0.        ]\n",
            " [0.         0.52210862 0.         0.         0.52210862 0.\n",
            "  0.         0.         0.52210862 0.42685801 0.        ]\n",
            " [0.         0.3218464  0.         0.50423458 0.3218464  0.\n",
            "  0.         0.39754433 0.3218464  0.52626104 0.        ]\n",
            " [0.         0.23910199 0.37459947 0.         0.         0.37459947\n",
            "  0.37459947 0.         0.47820398 0.39096309 0.37459947]]\n",
            "['blue' 'bright' 'can' 'in' 'is' 'see' 'shining' 'sky' 'sun' 'the' 'we']\n"
          ]
        }
      ]
    },
    {
      "cell_type": "markdown",
      "source": [
        "## Topic Modeling1: LSA"
      ],
      "metadata": {
        "id": "7_hRSwTP99oo"
      }
    },
    {
      "cell_type": "code",
      "source": [
        "from sklearn.decomposition import TruncatedSVD\n",
        "\n",
        "# Initialize LSA model\n",
        "n_topics = 10  # Adjust the number of topics as needed\n",
        "lsa_model = TruncatedSVD(n_components=n_topics, random_state=42)\n",
        "lsa_topic_matrix = lsa_model.fit_transform(X)\n",
        "\n",
        "# Display the top words in each topic\n",
        "def display_topics(model, feature_names, no_top_words):\n",
        "    for topic_idx, topic in enumerate(model.components_):\n",
        "        print(f\"Topic {topic_idx + 1}:\")\n",
        "        print(\" \".join([feature_names[i] for i in topic.argsort()[:-no_top_words - 1:-1]]))\n",
        "\n",
        "#no_top_words = 10\n",
        "#display_topics(lsa_model, vectorizer.get_feature_names_out(), no_top_words)"
      ],
      "metadata": {
        "id": "oEu_iSUK98id"
      },
      "execution_count": null,
      "outputs": []
    },
    {
      "cell_type": "code",
      "source": [
        "result = display_topics(lsa_model, vectorizer.get_feature_names_out(), 10)"
      ],
      "metadata": {
        "colab": {
          "base_uri": "https://localhost:8080/"
        },
        "id": "PPNmIHsU-jzn",
        "outputId": "084471b4-4e8e-4622-aff0-abb7c374a74a"
      },
      "execution_count": null,
      "outputs": [
        {
          "output_type": "stream",
          "name": "stdout",
          "text": [
            "Topic 1:\n",
            "하다 있다 에서 으로 이다 되다 이번 않다 기후 하고\n",
            "Topic 2:\n",
            "메탄 배출 에서 되다 나오다 보다 에너지 세계 크다 생산\n",
            "Topic 3:\n",
            "올리브 오일 만들다 사용 때문 같다 우리 이라고 있다 메탄\n",
            "Topic 4:\n",
            "아마존 우리 이러하다 있다 그리고 보다 때문 같다 되다 하고\n",
            "Topic 5:\n",
            "이번 기후 아마존 국가 대한 없다 이다 지역 변화 인하다\n",
            "Topic 6:\n",
            "이다 국가 대한 그리고 기업 만들다 우리 기술 기후 세계\n",
            "Topic 7:\n",
            "지속 않다 하다 가능성 기업 때문 메탄 사용 아니다 이번\n",
            "Topic 8:\n",
            "인하다 국가 에서 으로 많다 보다 아니다 하지만 대한 배출\n",
            "Topic 9:\n",
            "기술 만들다 이다 사용 하지만 생산 많다 에너지 에선 으로\n",
            "Topic 10:\n",
            "이다 기후 이러하다 세계 영향 그리고 하다 위해 지구 변화\n",
            "None\n"
          ]
        }
      ]
    },
    {
      "cell_type": "markdown",
      "source": [
        "### Evaluating the Performance\n",
        "\n"
      ],
      "metadata": {
        "id": "Q5XziMwfAfjj"
      }
    },
    {
      "cell_type": "code",
      "source": [
        "import pandas as pd\n",
        "from konlpy.tag import Okt\n",
        "from sklearn.feature_extraction.text import TfidfVectorizer\n",
        "from sklearn.decomposition import TruncatedSVD\n",
        "import matplotlib.pyplot as plt\n",
        "\n",
        "# Load the CSV file\n",
        "df = pd.read_csv('articles.csv')\n",
        "\n",
        "# Preprocess the text\n",
        "okt = Okt()\n",
        "\n",
        "def preprocess(text):\n",
        "    tokens = okt.morphs(text)\n",
        "    return ' '.join(tokens)\n",
        "\n",
        "df['processed_content'] = df['Content'].apply(preprocess)\n",
        "\n",
        "# Experiment with different numbers of features\n",
        "feature_sizes = [50, 100, 150, 200]\n",
        "n_topics = 10\n",
        "\n",
        "def perform_lsa(n_features):\n",
        "    vectorizer = TfidfVectorizer(max_features=n_features)\n",
        "    X = vectorizer.fit_transform(df['processed_content'])\n",
        "\n",
        "    lsa = TruncatedSVD(n_components=n_topics, random_state=42)\n",
        "    lsa.fit(X)\n",
        "\n",
        "    terms = vectorizer.get_feature_names_out()\n",
        "    topics = []\n",
        "    for i, component in enumerate(lsa.components_):\n",
        "        terms_in_topic = [terms[i] for i in component.argsort()[:-11:-1]]\n",
        "        topics.append(f\"Topic {i}: {', '.join(terms_in_topic)}\")\n",
        "    return topics\n",
        "\n",
        "# Store results for each feature size\n",
        "results = {}\n",
        "for n_features in feature_sizes:\n",
        "    topics = perform_lsa(n_features)\n",
        "    results[n_features] = topics\n",
        "    print(f\"\\nNumber of Features: {n_features}\")\n",
        "    for topic in topics:\n",
        "        print(topic)\n",
        "\n",
        "# Optionally, visualize the results\n",
        "# Here we might visualize coherence scores if we compute them, for example\n",
        "# Assuming `compute_coherence` is a function that computes coherence score for given topics\n",
        "\n",
        "def compute_coherence(topics):\n",
        "    # Placeholder function to compute coherence\n",
        "    # Implement coherence computation here\n",
        "    return sum(len(topic) for topic in topics) / len(topics)  # Simplistic example\n",
        "\n",
        "coherence_scores = [compute_coherence(results[n_features]) for n_features in feature_sizes]\n",
        "\n",
        "plt.plot(feature_sizes, coherence_scores, marker='o')\n",
        "plt.xlabel('Number of Features')\n",
        "plt.ylabel('Coherence Score')\n",
        "plt.title('Coherence Score vs Number of Features')\n",
        "plt.show()\n"
      ],
      "metadata": {
        "colab": {
          "base_uri": "https://localhost:8080/",
          "height": 1000
        },
        "id": "-YTUTlmvAjCC",
        "outputId": "1dff4088-2864-412d-91cb-ceef7c6bbcd0"
      },
      "execution_count": null,
      "outputs": [
        {
          "output_type": "stream",
          "name": "stdout",
          "text": [
            "\n",
            "Number of Features: 50\n",
            "Topic 0: 에서, 으로, 했다, 있다, 이다, 하는, 이번, 하고, 한다, 기후\n",
            "Topic 1: 메탄, 배출, 에서, 되는, 보다, 이다, 에너지, 된다, 있다, 세계\n",
            "Topic 2: 기업, 지속, 있다, 하는, 때문, 하고, 에서, 한다, 이다, 가능성\n",
            "Topic 3: 올리브, 오일, 했다, 아마존, 에서, 인해, 있다고, 많은, 생산, 연구\n",
            "Topic 4: 국가, 이다, 이번, 대한, 기후, 올리브, 오일, 사용, 세계, 하는\n",
            "Topic 5: 아마존, 우리, 국가, 이다, 그리고, 기후, 지구, 대한, 이라고, 세계\n",
            "Topic 6: 지속, 이번, 지역, 가능성, 기업, 때문, 아마존, 하는, 영향, 변화\n",
            "Topic 7: 인해, 국가, 에서, 가능성, 대한, 이번, 기업, 으로, 많은, 하지만\n",
            "Topic 8: 기술, 사용, 있다고, 많은, 인해, 하지만, 에너지, 된다, 으로, 이라고\n",
            "Topic 9: 한다, 기후, 위해, 인해, 이러한, 따르면, 하기, 으로, 있다고, 변화\n",
            "\n",
            "Number of Features: 100\n",
            "Topic 0: 에서, 으로, 했다, 있다, 이다, 하는, 하고, 이번, 있는, 생산\n",
            "Topic 1: 메탄, 배출, 발전, 에서, 가스, 배출량, 되는, 보다, 그런데, 에너지\n",
            "Topic 2: 합의, cop, 화석연료, 국가, 연료, 기후, 이번, 이다, 대한, 가스\n",
            "Topic 3: 지속, 기업, 과정, 회사, 하는, 때문, 하고, 이다, 배출량, 사람\n",
            "Topic 4: 하이브리드, 전기차, 합의, cop, 국가, 대한, 화석연료, 배출, 연구, 세계\n",
            "Topic 5: 올리브, 오일, 하이브리드, 전기차, 했다, 합의, cop, 화석연료, 국가, 생산\n",
            "Topic 6: 기류, 아마존, 가마, 벽돌, 이러한, 발생, 에서, 인해, cop, 우리\n",
            "Topic 7: 북극곰, 가마, 벽돌, 지속, 하고, 과정, 연구, 기업, 하는, 아마존\n",
            "Topic 8: 아마존, 가마, 벽돌, 했다, 우리, 이러한, 메탄, 에게, 그러나, 그리고\n",
            "Topic 9: 아마존, 우리, 북극곰, 기류, 그리고, 있다는, 이러한, 이라고, 지역, 현재\n",
            "\n",
            "Number of Features: 150\n",
            "Topic 0: 에서, 으로, 했다, 있다, 이다, 하는, 메탄, 하고, 있는, 한다\n",
            "Topic 1: 메탄, 배출, 대기, 발전, 가스, 에서, 되는, 배출량, 보다, 그런데\n",
            "Topic 2: 합의, cop, 초안, 화석연료, 28, 국가, 연료, 화석, 단계, 대한\n",
            "Topic 3: 하이브리드, 증기, 기업, 전기차, 지속, 모델, 과정, 소비자, 전기, 회사\n",
            "Topic 4: 하이브리드, 전기차, 모델, 북극곰, 소비자, 구진, 합의, 이번, 초안, 전환\n",
            "Topic 5: 올리브, 오일, 북극곰, 하이브리드, 했다, 전기차, 초안, 모델, 합의, 마리\n",
            "Topic 6: 강우, 인공, 스키, 리조트, 하이브리드, 전기차, 저장, 기술, 모델, 이번\n",
            "Topic 7: 북극곰, 마리, 아마존, 박사, 지속, 하고, 증기, 연어, 양식, 하는\n",
            "Topic 8: 가마, 벽돌, 캄보디아, 강우, 했다, 설명, 구진, 인공, 경우, 그러나\n",
            "Topic 9: 연어, 양식, 했다, 스키, 생산, 기술, 리조트, 아마존, 기후변화, 인해\n",
            "\n",
            "Number of Features: 200\n",
            "Topic 0: 에서, 으로, 했다, 있다, 이다, 메탄, 하는, 한다, 하고, 있는\n",
            "Topic 1: 메탄, 배출, 대기, 이산화탄소, 발전, 에서, 저수지, 가스, 호수, 되는\n",
            "Topic 2: 합의, cop, 초안, 화석연료, 28, 국가, 연료, 화석, 단계, 석유\n",
            "Topic 3: 하이브리드, 전기차, 모델, 증기, 기업, 보일러, 리더, 지속, 과정, 소비자\n",
            "Topic 4: 하이브리드, 전기차, 모델, 북극곰, 100, 소비자, 이번, 구진, 연구, 초안\n",
            "Topic 5: 올리브, 오일, 북극곰, 아마존, 박사, 가뭄, 마리, 하이브리드, 마을, 했다\n",
            "Topic 6: 올리브, 오일, 강우, 인공, 스키, 강우량, 리조트, 기류, 하이브리드, 전기차\n",
            "Topic 7: 기류, 가마, 벽돌, 공기, 캄보디아, 찬트레아, 노동자, 올리브, 오일, 이러한\n",
            "Topic 8: 가마, 벽돌, 캄보디아, 찬트레아, 노동자, 강우, 스키, 공장, 인공, 리조트\n",
            "Topic 9: 아마존, 박사, 가뭄, 마을, 올해, 인공, 강우, 스키, 리조트, 우리\n"
          ]
        },
        {
          "output_type": "display_data",
          "data": {
            "text/plain": [
              "<Figure size 640x480 with 1 Axes>"
            ],
            "image/png": "[encoded data removed]"
          },
          "metadata": {}
        }
      ]
    },
    {
      "cell_type": "code",
      "source": [
        "import pandas as pd\n",
        "from sklearn.datasets import fetch_20newsgroups\n",
        "import nltk\n",
        "from nltk.corpus import stopwords\n",
        "from sklearn.feature_extraction.text import TfidfVectorizer\n",
        "from sklearn.decomposition import TruncatedSVD"
      ],
      "metadata": {
        "id": "AfCS14ZHkdyy"
      },
      "execution_count": null,
      "outputs": []
    },
    {
      "cell_type": "code",
      "source": [
        "soup = BeautifulSoup.response"
      ],
      "metadata": {
        "id": "iuA87SpzgxX0"
      },
      "execution_count": null,
      "outputs": []
    },
    {
      "cell_type": "code",
      "source": [
        "'''\n",
        "# Save the content of each article into a CSV file\n",
        "with open('article_contents.csv', 'w', encoding='utf-8', newline='') as csvfile:\n",
        "    fieldnames = ['link', 'content']\n",
        "    writer = csv.DictWriter(csvfile, fieldnames=fieldnames)\n",
        "\n",
        "    writer.writeheader()\n",
        "    for article in articles:\n",
        "        if article['content']:\n",
        "            writer.writerow({'link': article['url'], 'content': article['content']})\n",
        "'''"
      ],
      "metadata": {
        "id": "7ZC6bWsYbLe3"
      },
      "execution_count": null,
      "outputs": []
    },
    {
      "cell_type": "code",
      "source": [
        "### Get a full content in one channel\n",
        "\n",
        "import requests\n",
        "import json\n",
        "import html\n",
        "from bs4 import BeautifulSoup\n",
        "\n",
        "client_id = 'u48m8PJ4OOADnYKmqOaE'\n",
        "client_secret = '2wsXFZo3bQ'\n",
        "\n",
        "def get_news(query, display=100, start=1, sort='date'):\n",
        "    url = f\"https://openapi.naver.com/v1/search/news.json?query={query}&display={display}&start={start}&sort={sort}\"\n",
        "    headers = {\n",
        "        'X-Naver-Client-Id': client_id,\n",
        "        'X-Naver-Client-Secret': client_secret\n",
        "    }\n",
        "    response = requests.get(url, headers=headers)\n",
        "    if response.status_code == 200:\n",
        "        return response.json()\n",
        "    else:\n",
        "        return None\n",
        "\n",
        "def extract_articles(response):\n",
        "    articles = []\n",
        "    if response:\n",
        "        for item in response.get('items', []):\n",
        "            title = html.unescape(item.get('title'))\n",
        "            url = item.get('link')  # Extract the URL of the article\n",
        "            print('this is url:', url)\n",
        "            content = get_article_content(url)  # Fetch the full content of the article\n",
        "            articles.append({'title': title, 'content': content})\n",
        "            #print(f\"Title: {title}\")\n",
        "            #print(f\"Content: {content}\\n\")\n",
        "    return articles\n",
        "\n",
        "def get_article_content(url):\n",
        "    response = requests.get(url)\n",
        "    if response.status_code == 200:\n",
        "        soup = BeautifulSoup(response.content, 'html.parser')\n",
        "        # Extract the text content of the article\n",
        "        text_content = soup.get_text(separator='\\n')\n",
        "        return text_content\n",
        "    else:\n",
        "        return None\n",
        "\n",
        "query = \"지속가능성\"\n",
        "articles = []\n",
        "\n",
        "for start in range(1, 101, 100):\n",
        "    response = get_news(query, start=start)\n",
        "    articles.extend(extract_articles(response))\n",
        "\n",
        "# Save articles to a JSON file\n",
        "with open('articles.json', 'w', encoding='utf-8') as f:\n",
        "    json.dump(articles, f, ensure_ascii=False, indent=4)\n",
        "\n",
        "print(f\"Total articles collected: {len(articles)}\")\n"
      ],
      "metadata": {
        "colab": {
          "base_uri": "https://localhost:8080/",
          "height": 799
        },
        "id": "_JyO-BXPSlgX",
        "outputId": "69cca11c-68d9-4d10-a7e4-f381c4bb5960"
      },
      "execution_count": null,
      "outputs": [
        {
          "output_type": "stream",
          "name": "stdout",
          "text": [
            "this is url: https://www.econovill.com/news/articleView.html?idxno=656429\n",
            "this is url: https://n.news.naver.com/mnews/article/469/0000804445?sid=100\n",
            "this is url: https://www.nbntv.co.kr/news/articleView.html?idxno=3018263\n",
            "this is url: http://digitalchosun.dizzo.com/site/data/html_dir/2024/05/31/2024053180221.html\n",
            "this is url: http://news.lghellovision.net/news/articleView.html?idxno=468837\n",
            "this is url: https://www.ziksir.com/news/articleView.html?idxno=59505\n",
            "this is url: https://vop.co.kr/A00001654828.html\n"
          ]
        },
        {
          "output_type": "error",
          "ename": "SSLError",
          "evalue": "HTTPSConnectionPool(host='vop.co.kr', port=443): Max retries exceeded with url: /A00001654828.html (Caused by SSLError(SSLError(1, '[SSL: DH_KEY_TOO_SMALL] dh key too small (_ssl.c:1007)')))",
          "traceback": [
            "\u001b[0;31m---------------------------------------------------------------------------\u001b[0m",
            "\u001b[0;31mSSLError\u001b[0m                                  Traceback (most recent call last)",
            "\u001b[0;32m/usr/local/lib/python3.10/dist-packages/urllib3/connectionpool.py\u001b[0m in \u001b[0;36m_make_request\u001b[0;34m(self, conn, method, url, body, headers, retries, timeout, chunked, response_conn, preload_content, decode_content, enforce_content_length)\u001b[0m\n\u001b[1;32m    467\u001b[0m             \u001b[0;32mtry\u001b[0m\u001b[0;34m:\u001b[0m\u001b[0;34m\u001b[0m\u001b[0;34m\u001b[0m\u001b[0m\n\u001b[0;32m--> 468\u001b[0;31m                 \u001b[0mself\u001b[0m\u001b[0;34m.\u001b[0m\u001b[0m_validate_conn\u001b[0m\u001b[0;34m(\u001b[0m\u001b[0mconn\u001b[0m\u001b[0;34m)\u001b[0m\u001b[0;34m\u001b[0m\u001b[0;34m\u001b[0m\u001b[0m\n\u001b[0m\u001b[1;32m    469\u001b[0m             \u001b[0;32mexcept\u001b[0m \u001b[0;34m(\u001b[0m\u001b[0mSocketTimeout\u001b[0m\u001b[0;34m,\u001b[0m \u001b[0mBaseSSLError\u001b[0m\u001b[0;34m)\u001b[0m \u001b[0;32mas\u001b[0m \u001b[0me\u001b[0m\u001b[0;34m:\u001b[0m\u001b[0;34m\u001b[0m\u001b[0;34m\u001b[0m\u001b[0m\n",
            "\u001b[0;32m/usr/local/lib/python3.10/dist-packages/urllib3/connectionpool.py\u001b[0m in \u001b[0;36m_validate_conn\u001b[0;34m(self, conn)\u001b[0m\n\u001b[1;32m   1096\u001b[0m         \u001b[0;32mif\u001b[0m \u001b[0mconn\u001b[0m\u001b[0;34m.\u001b[0m\u001b[0mis_closed\u001b[0m\u001b[0;34m:\u001b[0m\u001b[0;34m\u001b[0m\u001b[0;34m\u001b[0m\u001b[0m\n\u001b[0;32m-> 1097\u001b[0;31m             \u001b[0mconn\u001b[0m\u001b[0;34m.\u001b[0m\u001b[0mconnect\u001b[0m\u001b[0;34m(\u001b[0m\u001b[0;34m)\u001b[0m\u001b[0;34m\u001b[0m\u001b[0;34m\u001b[0m\u001b[0m\n\u001b[0m\u001b[1;32m   1098\u001b[0m \u001b[0;34m\u001b[0m\u001b[0m\n",
            "\u001b[0;32m/usr/local/lib/python3.10/dist-packages/urllib3/connection.py\u001b[0m in \u001b[0;36mconnect\u001b[0;34m(self)\u001b[0m\n\u001b[1;32m    641\u001b[0m \u001b[0;34m\u001b[0m\u001b[0m\n\u001b[0;32m--> 642\u001b[0;31m         sock_and_verified = _ssl_wrap_socket_and_match_hostname(\n\u001b[0m\u001b[1;32m    643\u001b[0m             \u001b[0msock\u001b[0m\u001b[0;34m=\u001b[0m\u001b[0msock\u001b[0m\u001b[0;34m,\u001b[0m\u001b[0;34m\u001b[0m\u001b[0;34m\u001b[0m\u001b[0m\n",
            "\u001b[0;32m/usr/local/lib/python3.10/dist-packages/urllib3/connection.py\u001b[0m in \u001b[0;36m_ssl_wrap_socket_and_match_hostname\u001b[0;34m(sock, cert_reqs, ssl_version, ssl_minimum_version, ssl_maximum_version, cert_file, key_file, key_password, ca_certs, ca_cert_dir, ca_cert_data, assert_hostname, assert_fingerprint, server_hostname, ssl_context, tls_in_tls)\u001b[0m\n\u001b[1;32m    782\u001b[0m \u001b[0;34m\u001b[0m\u001b[0m\n\u001b[0;32m--> 783\u001b[0;31m     ssl_sock = ssl_wrap_socket(\n\u001b[0m\u001b[1;32m    784\u001b[0m         \u001b[0msock\u001b[0m\u001b[0;34m=\u001b[0m\u001b[0msock\u001b[0m\u001b[0;34m,\u001b[0m\u001b[0;34m\u001b[0m\u001b[0;34m\u001b[0m\u001b[0m\n",
            "\u001b[0;32m/usr/local/lib/python3.10/dist-packages/urllib3/util/ssl_.py\u001b[0m in \u001b[0;36mssl_wrap_socket\u001b[0;34m(sock, keyfile, certfile, cert_reqs, ca_certs, server_hostname, ssl_version, ciphers, ssl_context, ca_cert_dir, key_password, ca_cert_data, tls_in_tls)\u001b[0m\n\u001b[1;32m    470\u001b[0m \u001b[0;34m\u001b[0m\u001b[0m\n\u001b[0;32m--> 471\u001b[0;31m     \u001b[0mssl_sock\u001b[0m \u001b[0;34m=\u001b[0m \u001b[0m_ssl_wrap_socket_impl\u001b[0m\u001b[0;34m(\u001b[0m\u001b[0msock\u001b[0m\u001b[0;34m,\u001b[0m \u001b[0mcontext\u001b[0m\u001b[0;34m,\u001b[0m \u001b[0mtls_in_tls\u001b[0m\u001b[0;34m,\u001b[0m \u001b[0mserver_hostname\u001b[0m\u001b[0;34m)\u001b[0m\u001b[0;34m\u001b[0m\u001b[0;34m\u001b[0m\u001b[0m\n\u001b[0m\u001b[1;32m    472\u001b[0m     \u001b[0;32mreturn\u001b[0m \u001b[0mssl_sock\u001b[0m\u001b[0;34m\u001b[0m\u001b[0;34m\u001b[0m\u001b[0m\n",
            "\u001b[0;32m/usr/local/lib/python3.10/dist-packages/urllib3/util/ssl_.py\u001b[0m in \u001b[0;36m_ssl_wrap_socket_impl\u001b[0;34m(sock, ssl_context, tls_in_tls, server_hostname)\u001b[0m\n\u001b[1;32m    514\u001b[0m \u001b[0;34m\u001b[0m\u001b[0m\n\u001b[0;32m--> 515\u001b[0;31m     \u001b[0;32mreturn\u001b[0m \u001b[0mssl_context\u001b[0m\u001b[0;34m.\u001b[0m\u001b[0mwrap_socket\u001b[0m\u001b[0;34m(\u001b[0m\u001b[0msock\u001b[0m\u001b[0;34m,\u001b[0m \u001b[0mserver_hostname\u001b[0m\u001b[0;34m=\u001b[0m\u001b[0mserver_hostname\u001b[0m\u001b[0;34m)\u001b[0m\u001b[0;34m\u001b[0m\u001b[0;34m\u001b[0m\u001b[0m\n\u001b[0m",
            "\u001b[0;32m/usr/lib/python3.10/ssl.py\u001b[0m in \u001b[0;36mwrap_socket\u001b[0;34m(self, sock, server_side, do_handshake_on_connect, suppress_ragged_eofs, server_hostname, session)\u001b[0m\n\u001b[1;32m    512\u001b[0m         \u001b[0;31m# ctx._wrap_socket()\u001b[0m\u001b[0;34m\u001b[0m\u001b[0;34m\u001b[0m\u001b[0m\n\u001b[0;32m--> 513\u001b[0;31m         return self.sslsocket_class._create(\n\u001b[0m\u001b[1;32m    514\u001b[0m             \u001b[0msock\u001b[0m\u001b[0;34m=\u001b[0m\u001b[0msock\u001b[0m\u001b[0;34m,\u001b[0m\u001b[0;34m\u001b[0m\u001b[0;34m\u001b[0m\u001b[0m\n",
            "\u001b[0;32m/usr/lib/python3.10/ssl.py\u001b[0m in \u001b[0;36m_create\u001b[0;34m(cls, sock, server_side, do_handshake_on_connect, suppress_ragged_eofs, server_hostname, context, session)\u001b[0m\n\u001b[1;32m   1099\u001b[0m                         \u001b[0;32mraise\u001b[0m \u001b[0mValueError\u001b[0m\u001b[0;34m(\u001b[0m\u001b[0;34m\"do_handshake_on_connect should not be specified for non-blocking sockets\"\u001b[0m\u001b[0;34m)\u001b[0m\u001b[0;34m\u001b[0m\u001b[0;34m\u001b[0m\u001b[0m\n\u001b[0;32m-> 1100\u001b[0;31m                     \u001b[0mself\u001b[0m\u001b[0;34m.\u001b[0m\u001b[0mdo_handshake\u001b[0m\u001b[0;34m(\u001b[0m\u001b[0;34m)\u001b[0m\u001b[0;34m\u001b[0m\u001b[0;34m\u001b[0m\u001b[0m\n\u001b[0m\u001b[1;32m   1101\u001b[0m             \u001b[0;32mexcept\u001b[0m \u001b[0;34m(\u001b[0m\u001b[0mOSError\u001b[0m\u001b[0;34m,\u001b[0m \u001b[0mValueError\u001b[0m\u001b[0;34m)\u001b[0m\u001b[0;34m:\u001b[0m\u001b[0;34m\u001b[0m\u001b[0;34m\u001b[0m\u001b[0m\n",
            "\u001b[0;32m/usr/lib/python3.10/ssl.py\u001b[0m in \u001b[0;36mdo_handshake\u001b[0;34m(self, block)\u001b[0m\n\u001b[1;32m   1370\u001b[0m                 \u001b[0mself\u001b[0m\u001b[0;34m.\u001b[0m\u001b[0msettimeout\u001b[0m\u001b[0;34m(\u001b[0m\u001b[0;32mNone\u001b[0m\u001b[0;34m)\u001b[0m\u001b[0;34m\u001b[0m\u001b[0;34m\u001b[0m\u001b[0m\n\u001b[0;32m-> 1371\u001b[0;31m             \u001b[0mself\u001b[0m\u001b[0;34m.\u001b[0m\u001b[0m_sslobj\u001b[0m\u001b[0;34m.\u001b[0m\u001b[0mdo_handshake\u001b[0m\u001b[0;34m(\u001b[0m\u001b[0;34m)\u001b[0m\u001b[0;34m\u001b[0m\u001b[0;34m\u001b[0m\u001b[0m\n\u001b[0m\u001b[1;32m   1372\u001b[0m         \u001b[0;32mfinally\u001b[0m\u001b[0;34m:\u001b[0m\u001b[0;34m\u001b[0m\u001b[0;34m\u001b[0m\u001b[0m\n",
            "\u001b[0;31mSSLError\u001b[0m: [SSL: DH_KEY_TOO_SMALL] dh key too small (_ssl.c:1007)",
            "\nDuring handling of the above exception, another exception occurred:\n",
            "\u001b[0;31mSSLError\u001b[0m                                  Traceback (most recent call last)",
            "\u001b[0;32m/usr/local/lib/python3.10/dist-packages/urllib3/connectionpool.py\u001b[0m in \u001b[0;36murlopen\u001b[0;34m(self, method, url, body, headers, retries, redirect, assert_same_host, timeout, pool_timeout, release_conn, chunked, body_pos, preload_content, decode_content, **response_kw)\u001b[0m\n\u001b[1;32m    790\u001b[0m             \u001b[0;31m# Make the request on the HTTPConnection object\u001b[0m\u001b[0;34m\u001b[0m\u001b[0;34m\u001b[0m\u001b[0m\n\u001b[0;32m--> 791\u001b[0;31m             response = self._make_request(\n\u001b[0m\u001b[1;32m    792\u001b[0m                 \u001b[0mconn\u001b[0m\u001b[0;34m,\u001b[0m\u001b[0;34m\u001b[0m\u001b[0;34m\u001b[0m\u001b[0m\n",
            "\u001b[0;32m/usr/local/lib/python3.10/dist-packages/urllib3/connectionpool.py\u001b[0m in \u001b[0;36m_make_request\u001b[0;34m(self, conn, method, url, body, headers, retries, timeout, chunked, response_conn, preload_content, decode_content, enforce_content_length)\u001b[0m\n\u001b[1;32m    491\u001b[0m                 \u001b[0mnew_e\u001b[0m \u001b[0;34m=\u001b[0m \u001b[0m_wrap_proxy_error\u001b[0m\u001b[0;34m(\u001b[0m\u001b[0mnew_e\u001b[0m\u001b[0;34m,\u001b[0m \u001b[0mconn\u001b[0m\u001b[0;34m.\u001b[0m\u001b[0mproxy\u001b[0m\u001b[0;34m.\u001b[0m\u001b[0mscheme\u001b[0m\u001b[0;34m)\u001b[0m\u001b[0;34m\u001b[0m\u001b[0;34m\u001b[0m\u001b[0m\n\u001b[0;32m--> 492\u001b[0;31m             \u001b[0;32mraise\u001b[0m \u001b[0mnew_e\u001b[0m\u001b[0;34m\u001b[0m\u001b[0;34m\u001b[0m\u001b[0m\n\u001b[0m\u001b[1;32m    493\u001b[0m \u001b[0;34m\u001b[0m\u001b[0m\n",
            "\u001b[0;31mSSLError\u001b[0m: [SSL: DH_KEY_TOO_SMALL] dh key too small (_ssl.c:1007)",
            "\nThe above exception was the direct cause of the following exception:\n",
            "\u001b[0;31mMaxRetryError\u001b[0m                             Traceback (most recent call last)",
            "\u001b[0;32m/usr/local/lib/python3.10/dist-packages/requests/adapters.py\u001b[0m in \u001b[0;36msend\u001b[0;34m(self, request, stream, timeout, verify, cert, proxies)\u001b[0m\n\u001b[1;32m    485\u001b[0m         \u001b[0;32mtry\u001b[0m\u001b[0;34m:\u001b[0m\u001b[0;34m\u001b[0m\u001b[0;34m\u001b[0m\u001b[0m\n\u001b[0;32m--> 486\u001b[0;31m             resp = conn.urlopen(\n\u001b[0m\u001b[1;32m    487\u001b[0m                 \u001b[0mmethod\u001b[0m\u001b[0;34m=\u001b[0m\u001b[0mrequest\u001b[0m\u001b[0;34m.\u001b[0m\u001b[0mmethod\u001b[0m\u001b[0;34m,\u001b[0m\u001b[0;34m\u001b[0m\u001b[0;34m\u001b[0m\u001b[0m\n",
            "\u001b[0;32m/usr/local/lib/python3.10/dist-packages/urllib3/connectionpool.py\u001b[0m in \u001b[0;36murlopen\u001b[0;34m(self, method, url, body, headers, retries, redirect, assert_same_host, timeout, pool_timeout, release_conn, chunked, body_pos, preload_content, decode_content, **response_kw)\u001b[0m\n\u001b[1;32m    844\u001b[0m \u001b[0;34m\u001b[0m\u001b[0m\n\u001b[0;32m--> 845\u001b[0;31m             retries = retries.increment(\n\u001b[0m\u001b[1;32m    846\u001b[0m                 \u001b[0mmethod\u001b[0m\u001b[0;34m,\u001b[0m \u001b[0murl\u001b[0m\u001b[0;34m,\u001b[0m \u001b[0merror\u001b[0m\u001b[0;34m=\u001b[0m\u001b[0mnew_e\u001b[0m\u001b[0;34m,\u001b[0m \u001b[0m_pool\u001b[0m\u001b[0;34m=\u001b[0m\u001b[0mself\u001b[0m\u001b[0;34m,\u001b[0m \u001b[0m_stacktrace\u001b[0m\u001b[0;34m=\u001b[0m\u001b[0msys\u001b[0m\u001b[0;34m.\u001b[0m\u001b[0mexc_info\u001b[0m\u001b[0;34m(\u001b[0m\u001b[0;34m)\u001b[0m\u001b[0;34m[\u001b[0m\u001b[0;36m2\u001b[0m\u001b[0;34m]\u001b[0m\u001b[0;34m\u001b[0m\u001b[0;34m\u001b[0m\u001b[0m\n",
            "\u001b[0;32m/usr/local/lib/python3.10/dist-packages/urllib3/util/retry.py\u001b[0m in \u001b[0;36mincrement\u001b[0;34m(self, method, url, response, error, _pool, _stacktrace)\u001b[0m\n\u001b[1;32m    514\u001b[0m             \u001b[0mreason\u001b[0m \u001b[0;34m=\u001b[0m \u001b[0merror\u001b[0m \u001b[0;32mor\u001b[0m \u001b[0mResponseError\u001b[0m\u001b[0;34m(\u001b[0m\u001b[0mcause\u001b[0m\u001b[0;34m)\u001b[0m\u001b[0;34m\u001b[0m\u001b[0;34m\u001b[0m\u001b[0m\n\u001b[0;32m--> 515\u001b[0;31m             \u001b[0;32mraise\u001b[0m \u001b[0mMaxRetryError\u001b[0m\u001b[0;34m(\u001b[0m\u001b[0m_pool\u001b[0m\u001b[0;34m,\u001b[0m \u001b[0murl\u001b[0m\u001b[0;34m,\u001b[0m \u001b[0mreason\u001b[0m\u001b[0;34m)\u001b[0m \u001b[0;32mfrom\u001b[0m \u001b[0mreason\u001b[0m  \u001b[0;31m# type: ignore[arg-type]\u001b[0m\u001b[0;34m\u001b[0m\u001b[0;34m\u001b[0m\u001b[0m\n\u001b[0m\u001b[1;32m    516\u001b[0m \u001b[0;34m\u001b[0m\u001b[0m\n",
            "\u001b[0;31mMaxRetryError\u001b[0m: HTTPSConnectionPool(host='vop.co.kr', port=443): Max retries exceeded with url: /A00001654828.html (Caused by SSLError(SSLError(1, '[SSL: DH_KEY_TOO_SMALL] dh key too small (_ssl.c:1007)')))",
            "\nDuring handling of the above exception, another exception occurred:\n",
            "\u001b[0;31mSSLError\u001b[0m                                  Traceback (most recent call last)",
            "\u001b[0;32m<ipython-input-25-eba86ad6a23b>\u001b[0m in \u001b[0;36m<cell line: 49>\u001b[0;34m()\u001b[0m\n\u001b[1;32m     49\u001b[0m \u001b[0;32mfor\u001b[0m \u001b[0mstart\u001b[0m \u001b[0;32min\u001b[0m \u001b[0mrange\u001b[0m\u001b[0;34m(\u001b[0m\u001b[0;36m1\u001b[0m\u001b[0;34m,\u001b[0m \u001b[0;36m101\u001b[0m\u001b[0;34m,\u001b[0m \u001b[0;36m100\u001b[0m\u001b[0;34m)\u001b[0m\u001b[0;34m:\u001b[0m\u001b[0;34m\u001b[0m\u001b[0;34m\u001b[0m\u001b[0m\n\u001b[1;32m     50\u001b[0m     \u001b[0mresponse\u001b[0m \u001b[0;34m=\u001b[0m \u001b[0mget_news\u001b[0m\u001b[0;34m(\u001b[0m\u001b[0mquery\u001b[0m\u001b[0;34m,\u001b[0m \u001b[0mstart\u001b[0m\u001b[0;34m=\u001b[0m\u001b[0mstart\u001b[0m\u001b[0;34m)\u001b[0m\u001b[0;34m\u001b[0m\u001b[0;34m\u001b[0m\u001b[0m\n\u001b[0;32m---> 51\u001b[0;31m     \u001b[0marticles\u001b[0m\u001b[0;34m.\u001b[0m\u001b[0mextend\u001b[0m\u001b[0;34m(\u001b[0m\u001b[0mextract_articles\u001b[0m\u001b[0;34m(\u001b[0m\u001b[0mresponse\u001b[0m\u001b[0;34m)\u001b[0m\u001b[0;34m)\u001b[0m\u001b[0;34m\u001b[0m\u001b[0;34m\u001b[0m\u001b[0m\n\u001b[0m\u001b[1;32m     52\u001b[0m \u001b[0;34m\u001b[0m\u001b[0m\n\u001b[1;32m     53\u001b[0m \u001b[0;31m# Save articles to a JSON file\u001b[0m\u001b[0;34m\u001b[0m\u001b[0;34m\u001b[0m\u001b[0m\n",
            "\u001b[0;32m<ipython-input-25-eba86ad6a23b>\u001b[0m in \u001b[0;36mextract_articles\u001b[0;34m(response)\u001b[0m\n\u001b[1;32m     28\u001b[0m             \u001b[0murl\u001b[0m \u001b[0;34m=\u001b[0m \u001b[0mitem\u001b[0m\u001b[0;34m.\u001b[0m\u001b[0mget\u001b[0m\u001b[0;34m(\u001b[0m\u001b[0;34m'link'\u001b[0m\u001b[0;34m)\u001b[0m  \u001b[0;31m# Extract the URL of the article\u001b[0m\u001b[0;34m\u001b[0m\u001b[0;34m\u001b[0m\u001b[0m\n\u001b[1;32m     29\u001b[0m             \u001b[0mprint\u001b[0m\u001b[0;34m(\u001b[0m\u001b[0;34m'this is url:'\u001b[0m\u001b[0;34m,\u001b[0m \u001b[0murl\u001b[0m\u001b[0;34m)\u001b[0m\u001b[0;34m\u001b[0m\u001b[0;34m\u001b[0m\u001b[0m\n\u001b[0;32m---> 30\u001b[0;31m             \u001b[0mcontent\u001b[0m \u001b[0;34m=\u001b[0m \u001b[0mget_article_content\u001b[0m\u001b[0;34m(\u001b[0m\u001b[0murl\u001b[0m\u001b[0;34m)\u001b[0m  \u001b[0;31m# Fetch the full content of the article\u001b[0m\u001b[0;34m\u001b[0m\u001b[0;34m\u001b[0m\u001b[0m\n\u001b[0m\u001b[1;32m     31\u001b[0m             \u001b[0marticles\u001b[0m\u001b[0;34m.\u001b[0m\u001b[0mappend\u001b[0m\u001b[0;34m(\u001b[0m\u001b[0;34m{\u001b[0m\u001b[0;34m'title'\u001b[0m\u001b[0;34m:\u001b[0m \u001b[0mtitle\u001b[0m\u001b[0;34m,\u001b[0m \u001b[0;34m'content'\u001b[0m\u001b[0;34m:\u001b[0m \u001b[0mcontent\u001b[0m\u001b[0;34m}\u001b[0m\u001b[0;34m)\u001b[0m\u001b[0;34m\u001b[0m\u001b[0;34m\u001b[0m\u001b[0m\n\u001b[1;32m     32\u001b[0m             \u001b[0;31m#print(f\"Title: {title}\")\u001b[0m\u001b[0;34m\u001b[0m\u001b[0;34m\u001b[0m\u001b[0m\n",
            "\u001b[0;32m<ipython-input-25-eba86ad6a23b>\u001b[0m in \u001b[0;36mget_article_content\u001b[0;34m(url)\u001b[0m\n\u001b[1;32m     35\u001b[0m \u001b[0;34m\u001b[0m\u001b[0m\n\u001b[1;32m     36\u001b[0m \u001b[0;32mdef\u001b[0m \u001b[0mget_article_content\u001b[0m\u001b[0;34m(\u001b[0m\u001b[0murl\u001b[0m\u001b[0;34m)\u001b[0m\u001b[0;34m:\u001b[0m\u001b[0;34m\u001b[0m\u001b[0;34m\u001b[0m\u001b[0m\n\u001b[0;32m---> 37\u001b[0;31m     \u001b[0mresponse\u001b[0m \u001b[0;34m=\u001b[0m \u001b[0mrequests\u001b[0m\u001b[0;34m.\u001b[0m\u001b[0mget\u001b[0m\u001b[0;34m(\u001b[0m\u001b[0murl\u001b[0m\u001b[0;34m)\u001b[0m\u001b[0;34m\u001b[0m\u001b[0;34m\u001b[0m\u001b[0m\n\u001b[0m\u001b[1;32m     38\u001b[0m     \u001b[0;32mif\u001b[0m \u001b[0mresponse\u001b[0m\u001b[0;34m.\u001b[0m\u001b[0mstatus_code\u001b[0m \u001b[0;34m==\u001b[0m \u001b[0;36m200\u001b[0m\u001b[0;34m:\u001b[0m\u001b[0;34m\u001b[0m\u001b[0;34m\u001b[0m\u001b[0m\n\u001b[1;32m     39\u001b[0m         \u001b[0msoup\u001b[0m \u001b[0;34m=\u001b[0m \u001b[0mBeautifulSoup\u001b[0m\u001b[0;34m(\u001b[0m\u001b[0mresponse\u001b[0m\u001b[0;34m.\u001b[0m\u001b[0mcontent\u001b[0m\u001b[0;34m,\u001b[0m \u001b[0;34m'html.parser'\u001b[0m\u001b[0;34m)\u001b[0m\u001b[0;34m\u001b[0m\u001b[0;34m\u001b[0m\u001b[0m\n",
            "\u001b[0;32m/usr/local/lib/python3.10/dist-packages/requests/api.py\u001b[0m in \u001b[0;36mget\u001b[0;34m(url, params, **kwargs)\u001b[0m\n\u001b[1;32m     71\u001b[0m     \"\"\"\n\u001b[1;32m     72\u001b[0m \u001b[0;34m\u001b[0m\u001b[0m\n\u001b[0;32m---> 73\u001b[0;31m     \u001b[0;32mreturn\u001b[0m \u001b[0mrequest\u001b[0m\u001b[0;34m(\u001b[0m\u001b[0;34m\"get\"\u001b[0m\u001b[0;34m,\u001b[0m \u001b[0murl\u001b[0m\u001b[0;34m,\u001b[0m \u001b[0mparams\u001b[0m\u001b[0;34m=\u001b[0m\u001b[0mparams\u001b[0m\u001b[0;34m,\u001b[0m \u001b[0;34m**\u001b[0m\u001b[0mkwargs\u001b[0m\u001b[0;34m)\u001b[0m\u001b[0;34m\u001b[0m\u001b[0;34m\u001b[0m\u001b[0m\n\u001b[0m\u001b[1;32m     74\u001b[0m \u001b[0;34m\u001b[0m\u001b[0m\n\u001b[1;32m     75\u001b[0m \u001b[0;34m\u001b[0m\u001b[0m\n",
            "\u001b[0;32m/usr/local/lib/python3.10/dist-packages/requests/api.py\u001b[0m in \u001b[0;36mrequest\u001b[0;34m(method, url, **kwargs)\u001b[0m\n\u001b[1;32m     57\u001b[0m     \u001b[0;31m# cases, and look like a memory leak in others.\u001b[0m\u001b[0;34m\u001b[0m\u001b[0;34m\u001b[0m\u001b[0m\n\u001b[1;32m     58\u001b[0m     \u001b[0;32mwith\u001b[0m \u001b[0msessions\u001b[0m\u001b[0;34m.\u001b[0m\u001b[0mSession\u001b[0m\u001b[0;34m(\u001b[0m\u001b[0;34m)\u001b[0m \u001b[0;32mas\u001b[0m \u001b[0msession\u001b[0m\u001b[0;34m:\u001b[0m\u001b[0;34m\u001b[0m\u001b[0;34m\u001b[0m\u001b[0m\n\u001b[0;32m---> 59\u001b[0;31m         \u001b[0;32mreturn\u001b[0m \u001b[0msession\u001b[0m\u001b[0;34m.\u001b[0m\u001b[0mrequest\u001b[0m\u001b[0;34m(\u001b[0m\u001b[0mmethod\u001b[0m\u001b[0;34m=\u001b[0m\u001b[0mmethod\u001b[0m\u001b[0;34m,\u001b[0m \u001b[0murl\u001b[0m\u001b[0;34m=\u001b[0m\u001b[0murl\u001b[0m\u001b[0;34m,\u001b[0m \u001b[0;34m**\u001b[0m\u001b[0mkwargs\u001b[0m\u001b[0;34m)\u001b[0m\u001b[0;34m\u001b[0m\u001b[0;34m\u001b[0m\u001b[0m\n\u001b[0m\u001b[1;32m     60\u001b[0m \u001b[0;34m\u001b[0m\u001b[0m\n\u001b[1;32m     61\u001b[0m \u001b[0;34m\u001b[0m\u001b[0m\n",
            "\u001b[0;32m/usr/local/lib/python3.10/dist-packages/requests/sessions.py\u001b[0m in \u001b[0;36mrequest\u001b[0;34m(self, method, url, params, data, headers, cookies, files, auth, timeout, allow_redirects, proxies, hooks, stream, verify, cert, json)\u001b[0m\n\u001b[1;32m    587\u001b[0m         }\n\u001b[1;32m    588\u001b[0m         \u001b[0msend_kwargs\u001b[0m\u001b[0;34m.\u001b[0m\u001b[0mupdate\u001b[0m\u001b[0;34m(\u001b[0m\u001b[0msettings\u001b[0m\u001b[0;34m)\u001b[0m\u001b[0;34m\u001b[0m\u001b[0;34m\u001b[0m\u001b[0m\n\u001b[0;32m--> 589\u001b[0;31m         \u001b[0mresp\u001b[0m \u001b[0;34m=\u001b[0m \u001b[0mself\u001b[0m\u001b[0;34m.\u001b[0m\u001b[0msend\u001b[0m\u001b[0;34m(\u001b[0m\u001b[0mprep\u001b[0m\u001b[0;34m,\u001b[0m \u001b[0;34m**\u001b[0m\u001b[0msend_kwargs\u001b[0m\u001b[0;34m)\u001b[0m\u001b[0;34m\u001b[0m\u001b[0;34m\u001b[0m\u001b[0m\n\u001b[0m\u001b[1;32m    590\u001b[0m \u001b[0;34m\u001b[0m\u001b[0m\n\u001b[1;32m    591\u001b[0m         \u001b[0;32mreturn\u001b[0m \u001b[0mresp\u001b[0m\u001b[0;34m\u001b[0m\u001b[0;34m\u001b[0m\u001b[0m\n",
            "\u001b[0;32m/usr/local/lib/python3.10/dist-packages/requests/sessions.py\u001b[0m in \u001b[0;36msend\u001b[0;34m(self, request, **kwargs)\u001b[0m\n\u001b[1;32m    701\u001b[0m \u001b[0;34m\u001b[0m\u001b[0m\n\u001b[1;32m    702\u001b[0m         \u001b[0;31m# Send the request\u001b[0m\u001b[0;34m\u001b[0m\u001b[0;34m\u001b[0m\u001b[0m\n\u001b[0;32m--> 703\u001b[0;31m         \u001b[0mr\u001b[0m \u001b[0;34m=\u001b[0m \u001b[0madapter\u001b[0m\u001b[0;34m.\u001b[0m\u001b[0msend\u001b[0m\u001b[0;34m(\u001b[0m\u001b[0mrequest\u001b[0m\u001b[0;34m,\u001b[0m \u001b[0;34m**\u001b[0m\u001b[0mkwargs\u001b[0m\u001b[0;34m)\u001b[0m\u001b[0;34m\u001b[0m\u001b[0;34m\u001b[0m\u001b[0m\n\u001b[0m\u001b[1;32m    704\u001b[0m \u001b[0;34m\u001b[0m\u001b[0m\n\u001b[1;32m    705\u001b[0m         \u001b[0;31m# Total elapsed time of the request (approximately)\u001b[0m\u001b[0;34m\u001b[0m\u001b[0;34m\u001b[0m\u001b[0m\n",
            "\u001b[0;32m/usr/local/lib/python3.10/dist-packages/requests/adapters.py\u001b[0m in \u001b[0;36msend\u001b[0;34m(self, request, stream, timeout, verify, cert, proxies)\u001b[0m\n\u001b[1;32m    515\u001b[0m             \u001b[0;32mif\u001b[0m \u001b[0misinstance\u001b[0m\u001b[0;34m(\u001b[0m\u001b[0me\u001b[0m\u001b[0;34m.\u001b[0m\u001b[0mreason\u001b[0m\u001b[0;34m,\u001b[0m \u001b[0m_SSLError\u001b[0m\u001b[0;34m)\u001b[0m\u001b[0;34m:\u001b[0m\u001b[0;34m\u001b[0m\u001b[0;34m\u001b[0m\u001b[0m\n\u001b[1;32m    516\u001b[0m                 \u001b[0;31m# This branch is for urllib3 v1.22 and later.\u001b[0m\u001b[0;34m\u001b[0m\u001b[0;34m\u001b[0m\u001b[0m\n\u001b[0;32m--> 517\u001b[0;31m                 \u001b[0;32mraise\u001b[0m \u001b[0mSSLError\u001b[0m\u001b[0;34m(\u001b[0m\u001b[0me\u001b[0m\u001b[0;34m,\u001b[0m \u001b[0mrequest\u001b[0m\u001b[0;34m=\u001b[0m\u001b[0mrequest\u001b[0m\u001b[0;34m)\u001b[0m\u001b[0;34m\u001b[0m\u001b[0;34m\u001b[0m\u001b[0m\n\u001b[0m\u001b[1;32m    518\u001b[0m \u001b[0;34m\u001b[0m\u001b[0m\n\u001b[1;32m    519\u001b[0m             \u001b[0;32mraise\u001b[0m \u001b[0mConnectionError\u001b[0m\u001b[0;34m(\u001b[0m\u001b[0me\u001b[0m\u001b[0;34m,\u001b[0m \u001b[0mrequest\u001b[0m\u001b[0;34m=\u001b[0m\u001b[0mrequest\u001b[0m\u001b[0;34m)\u001b[0m\u001b[0;34m\u001b[0m\u001b[0;34m\u001b[0m\u001b[0m\n",
            "\u001b[0;31mSSLError\u001b[0m: HTTPSConnectionPool(host='vop.co.kr', port=443): Max retries exceeded with url: /A00001654828.html (Caused by SSLError(SSLError(1, '[SSL: DH_KEY_TOO_SMALL] dh key too small (_ssl.c:1007)')))"
          ]
        }
      ]
    },
    {
      "cell_type": "code",
      "source": [
        "articles[0]"
      ],
      "metadata": {
        "colab": {
          "base_uri": "https://localhost:8080/"
        },
        "id": "k0U-AFOzON72",
        "outputId": "414a4dc9-d25f-492b-f6dd-23aa7f1039bb"
      },
      "execution_count": null,
      "outputs": [
        {
          "output_type": "execute_result",
          "data": {
            "text/plain": [
              "{'title': 'LG화학, 국내 민간기업 최대 규모 풍력 재생에너지 확보',\n",
              " 'description': 'LG화학 CSSO 이종구 부사장은 \"LG화학은 전지 소재, 친환경 지속가능 소재 등 비즈니스 포트폴리오를 지속가능성에 기반하여 구축할 뿐만 아니라, 사용 에너지까지 친환경 에너지로 전환하여 고객들에게 차별화된... '}"
            ]
          },
          "metadata": {},
          "execution_count": 22
        }
      ]
    },
    {
      "cell_type": "code",
      "execution_count": null,
      "metadata": {
        "id": "oOypFt2SJqDa"
      },
      "outputs": [],
      "source": [
        "import os\n",
        "import sys\n",
        "import urllib.request\n",
        "import pandas as pd\n",
        "import json\n",
        "import re\n",
        "\n",
        "client_id = 'u48m8PJ4OOADnYKmqOaE'\n",
        "client_secret = '2wsXFZo3bQ'\n",
        "\n",
        "query = urllib.parse.quote(input(\"검색어:\"))\n",
        "\n",
        "idx = 0\n",
        "display = 100\n",
        "start = 1\n",
        "end = 1000\n",
        "\n",
        "url = \"https://openai.naver.com/v1/search/webkr?query=\" + query\n",
        "\n",
        "request = urllib.request.Request(url)\n",
        "request.add_header(\"X-Naver-Client-Id\",client_id)\n",
        "request.add_header(\"X-Naver-Client-Secret\", client_secret)\n",
        "reponse = urllib.request.urlopen(request)\n",
        "rescode = response.getcode()\n",
        "if(rescode==200):\n",
        "  response_body = response.read()\n",
        "  print(response_body.decode(\"utf-8\"))\n",
        "\n",
        "else:\n",
        "  print(\"Error Code:\" + rescode)"
      ]
    },
    {
      "cell_type": "code",
      "source": [
        "import java.io.BufferedReader;\n",
        "import java.io.IOException;\n",
        "import java.io.InputStream;\n",
        "import java.io.InputStreamReader;\n",
        "import java.net.HttpURLConnection;\n",
        "import java.net.MalformedURLException;\n",
        "import java.net.URL;\n",
        "import java.util.HashMap;\n",
        "import java.util.Map;\n",
        "\n",
        "public class ApiExamShortenUrl {\n",
        "\n",
        "    public static void main(String[] args) {\n",
        "        String clientId = \"YOUR_CLIENT_ID\"; //애플리케이션 클라이언트 아이디값\"\n",
        "        String clientSecret = \"YOUR_CLIENT_SECRET\"; //애플리케이션 클라이언트 시크릿값\"\n",
        "\n",
        "        String originalURL = \"https://developers.naver.com/notice\";\n",
        "        String apiURL = \"https://openapi.naver.com/v1/util/shorturl?url=\" + originalURL;\n",
        "\n",
        "        Map<String, String> requestHeaders = new HashMap<>();\n",
        "        requestHeaders.put(\"X-Naver-Client-Id\", clientId);\n",
        "        requestHeaders.put(\"X-Naver-Client-Secret\", clientSecret);\n",
        "        String responseBody = get(apiURL,requestHeaders);\n",
        "\n",
        "        System.out.println(responseBody);\n",
        "    }\n",
        "\n",
        "    private static String get(String apiUrl, Map<String, String> requestHeaders){\n",
        "        HttpURLConnection con = connect(apiUrl);\n",
        "        try {\n",
        "            con.setRequestMethod(\"GET\");\n",
        "            for(Map.Entry<String, String> header :requestHeaders.entrySet()) {\n",
        "                con.setRequestProperty(header.getKey(), header.getValue());\n",
        "            }\n",
        "\n",
        "            int responseCode = con.getResponseCode();\n",
        "            if (responseCode == HttpURLConnection.HTTP_OK) { // 정상 호출\n",
        "                return readBody(con.getInputStream());\n",
        "            } else { // 에러 발생\n",
        "                return readBody(con.getErrorStream());\n",
        "            }\n",
        "        } catch (IOException e) {\n",
        "            throw new RuntimeException(\"API 요청과 응답 실패\", e);\n",
        "        } finally {\n",
        "            con.disconnect();\n",
        "        }\n",
        "    }\n",
        "\n",
        "    private static HttpURLConnection connect(String apiUrl){\n",
        "        try {\n",
        "            URL url = new URL(apiUrl);\n",
        "            return (HttpURLConnection)url.openConnection();\n",
        "        } catch (MalformedURLException e) {\n",
        "            throw new RuntimeException(\"API URL이 잘못되었습니다. : \" + apiUrl, e);\n",
        "        } catch (IOException e) {\n",
        "            throw new RuntimeException(\"연결이 실패했습니다. : \" + apiUrl, e);\n",
        "        }\n",
        "    }\n",
        "\n",
        "    private static String readBody(InputStream body){\n",
        "        InputStreamReader streamReader = new InputStreamReader(body);\n",
        "\n",
        "        try (BufferedReader lineReader = new BufferedReader(streamReader)) {\n",
        "            StringBuilder responseBody = new StringBuilder();\n",
        "\n",
        "            String line;\n",
        "            while ((line = lineReader.readLine()) != null) {\n",
        "                responseBody.append(line);\n",
        "            }\n",
        "\n",
        "            return responseBody.toString();\n",
        "        } catch (IOException e) {\n",
        "            throw new RuntimeException(\"API 응답을 읽는데 실패했습니다.\", e);\n",
        "        }\n",
        "    }\n",
        "}"
      ],
      "metadata": {
        "id": "rp_koDm7hDey"
      },
      "execution_count": null,
      "outputs": []
    },
    {
      "cell_type": "code",
      "source": [
        "# version of csv\n",
        "import requests\n",
        "from bs4 import BeautifulSoup\n",
        "import csv\n",
        "\n",
        "# URL of the webpage\n",
        "url = \"https://www.bbc.com/korean/topics/cz74kjy812kt\"\n",
        "\n",
        "# Send an HTTP request to the URL\n",
        "response = requests.get(url)\n",
        "\n",
        "# Check if the request was successful (status code 200)\n",
        "if response.status_code == 200:\n",
        "    # Parse the HTML content of the webpage\n",
        "    soup = BeautifulSoup(response.content, 'html.parser')\n",
        "\n",
        "    # Find all elements with the specified class\n",
        "    articles = soup.find_all('a', class_='focusIndicatorDisplayBlock bbc-uk8dsi e1d658bg0')\n",
        "\n",
        "    # Open a CSV file to save the content\n",
        "    with open(\"article_links.csv\", \"w\", newline='', encoding=\"utf-8\") as file:\n",
        "        writer = csv.writer(file)\n",
        "        # Write the header row\n",
        "        writer.writerow([\"Title\", \"Link\"])\n",
        "\n",
        "        # Loop through each article element and extract the text and href\n",
        "        for article in articles:\n",
        "            title = article.get_text(strip=True)\n",
        "            link = f\"https://www.bbc.com{article['href']}\"\n",
        "            # Write the title and link to the CSV file\n",
        "            writer.writerow([title, link])\n",
        "\n",
        "    print(\"Article links and titles saved to article_links.csv\")\n",
        "else:\n",
        "    print(\"Failed to retrieve the webpage\")"
      ],
      "metadata": {
        "colab": {
          "base_uri": "https://localhost:8080/"
        },
        "id": "DMs4K7eAqTeh",
        "outputId": "15439897-dfd4-4ad4-93b8-45fa32a7d43b"
      },
      "execution_count": null,
      "outputs": [
        {
          "output_type": "stream",
          "name": "stdout",
          "text": [
            "Article links and titles saved to article_links.csv\n"
          ]
        }
      ]
    },
    {
      "cell_type": "markdown",
      "source": [
        "## Topic Modeling: LDA"
      ],
      "metadata": {
        "id": "DMdX_tB8F8Y4"
      }
    },
    {
      "cell_type": "code",
      "source": [
        "import pandas as pd\n",
        "from konlpy.tag import Okt\n",
        "from sklearn.feature_extraction.text import CountVectorizer\n",
        "from sklearn.decomposition import LatentDirichletAllocation\n",
        "\n",
        "# Load the CSV file\n",
        "data = pd.read_csv('articles.csv')\n",
        "\n",
        "# Initialize the Okt tokenizer\n",
        "okt = Okt()\n",
        "\n",
        "# Define a list of Korean stopwords\n",
        "stopwords = ['하다', '했다', '한다', '하는', '이다', '있다', '하지만', '그래서', '라며', '이러한',  '대해', '라고', '은', '는', '이', '가', '도', '를', '에', '의', '와', '한', '로', '들', '으로', '하고', '에서', '까지', '에게', '것', '수', '있는', '그', '그녀', '저', '할', '를', '이', '과', '또한', '그리고']\n",
        "\n",
        "# Preprocessing function\n",
        "def preprocess(text):\n",
        "    tokens = okt.morphs(text)  # Tokenize\n",
        "    tokens = [word for word in tokens if word not in stopwords]  # Remove stopwords\n",
        "    return ' '.join(tokens)\n",
        "\n",
        "# Apply preprocessing to the content column\n",
        "data['content_preprocessed'] = data['Content'].apply(preprocess)\n",
        "\n",
        "# Vectorize the preprocessed content\n",
        "vectorizer = CountVectorizer()\n",
        "X = vectorizer.fit_transform(data['content_preprocessed'])\n",
        "\n",
        "# Fit the LDA model\n",
        "n_topics = 10  # Adjust the number of topics as needed\n",
        "lda_model = LatentDirichletAllocation(n_components=n_topics, random_state=42)\n",
        "lda_topic_matrix = lda_model.fit_transform(X)\n",
        "\n",
        "# Display topics\n",
        "def display_topics(model, feature_names, no_top_words):\n",
        "    for topic_idx, topic in enumerate(model.components_):\n",
        "        print(f\"Topic {topic_idx + 1}:\")\n",
        "        print(\" \".join([feature_names[i] for i in topic.argsort()[:-no_top_words - 1:-1]]))\n",
        "\n",
        "feature_names = vectorizer.get_feature_names_out()\n",
        "display_topics(lda_model, feature_names, no_top_words=10)\n"
      ],
      "metadata": {
        "colab": {
          "base_uri": "https://localhost:8080/"
        },
        "id": "ntMc7kmKF7-i",
        "outputId": "2bd3833d-1ffe-48ca-abc6-a618465ce77e"
      },
      "execution_count": null,
      "outputs": [
        {
          "output_type": "stream",
          "name": "stdout",
          "text": [
            "Topic 1:\n",
            "기류 강우 인공 강우량 공기 기후 기상 지역 홍수 이번\n",
            "Topic 2:\n",
            "합의 연료 화석 에너지 이번 대한 전환 표현 역할 기후\n",
            "Topic 3:\n",
            "메탄 배출 배출량 사용 과정 생산 증기 되는 발전 통해\n",
            "Topic 4:\n",
            "아마존 하이브리드 전기차 화석연료 이번 연어 우리 대한 모델 박사\n",
            "Topic 5:\n",
            "오징어 크게 한국 서식지 역시 주로 이제 지난해 캘리포니아 수가\n",
            "Topic 6:\n",
            "가마 북극곰 벽돌 연구 찬트레아 캄보디아 구진 노동자 기후 그러나\n",
            "Topic 7:\n",
            "충전 역시 이로 역할 수준 대부분 비난 제기 해도 사례\n",
            "Topic 8:\n",
            "cop 기후 28 세계 국가 행동 감축 약속 연료 화석\n",
            "Topic 9:\n",
            "올리브 오일 사용 요리 지구 생산 가격 셰프 가장 동안\n",
            "Topic 10:\n",
            "스키 리조트 기업 지속 배출 가능성 기술 리더 때문 저장\n"
          ]
        }
      ]
    },
    {
      "cell_type": "code",
      "source": [
        "import pandas as pd\n",
        "from konlpy.tag import Okt\n",
        "from sklearn.feature_extraction.text import CountVectorizer\n",
        "from sklearn.decomposition import LatentDirichletAllocation\n",
        "\n",
        "# Load the CSV file\n",
        "data = pd.read_csv('articles.csv')\n",
        "\n",
        "# Initialize the Okt tokenizer\n",
        "okt = Okt()\n",
        "\n",
        "# Define a list of Korean stopwords\n",
        "stopwords = ['하다', '했다', '한다', '하는', '이다', '있다', '하지만', '그래서', '라며', '이러한',  '대해', '라고', '은', '는', '이', '가', '도', '를', '에', '의', '와', '한', '로', '들', '으로', '하고', '에서', '까지', '에게', '것', '수', '있는', '그', '그녀', '저', '할', '를', '이', '과', '또한', '그리고']\n",
        "\n",
        "# Preprocessing function\n",
        "def preprocess(text):\n",
        "    tokens = okt.morphs(text)  # Tokenize\n",
        "    tokens = [word for word in tokens if word not in stopwords]  # Remove stopwords\n",
        "    return ' '.join(tokens)\n",
        "\n",
        "# Apply preprocessing to the content column\n",
        "data['content_preprocessed'] = data['Content'].apply(preprocess)\n",
        "\n",
        "# Vectorize the preprocessed content\n",
        "vectorizer = CountVectorizer()\n",
        "X = vectorizer.fit_transform(data['content_preprocessed'])\n",
        "\n",
        "# Fit the LDA model\n",
        "n_topics = 10  # Adjust the number of topics as needed\n",
        "lda_model = LatentDirichletAllocation(n_components=n_topics, random_state=42)\n",
        "lda_topic_matrix = lda_model.fit_transform(X)\n",
        "\n",
        "# Display topics\n",
        "def display_topics(model, feature_names, no_top_words):\n",
        "    for topic_idx, topic in enumerate(model.components_):\n",
        "        print(f\"Topic {topic_idx + 1}:\")\n",
        "        print(\" \".join([feature_names[i] for i in topic.argsort()[:-no_top_words - 1:-1]]))\n",
        "\n",
        "# Display topic distribution for each article\n",
        "def display_topic_distribution(model, documents):\n",
        "    topic_distribution = model.transform(documents)\n",
        "    for idx, topic_probs in enumerate(topic_distribution):\n",
        "        print(f\"Article {idx + 1}:\")\n",
        "        for topic_idx, prob in enumerate(topic_probs):\n",
        "            print(f\"  Topic {topic_idx + 1}: {prob:.4f}\")\n",
        "\n",
        "feature_names = vectorizer.get_feature_names_out()\n",
        "display_topics(lda_model, feature_names, no_top_words=10)\n",
        "\n",
        "# Display topic distribution for each article\n",
        "display_topic_distribution(lda_model, X)\n"
      ],
      "metadata": {
        "id": "B7c3nmhKJBfe"
      },
      "execution_count": null,
      "outputs": []
    },
    {
      "cell_type": "markdown",
      "source": [
        "##Topic Modeling: NMF"
      ],
      "metadata": {
        "id": "JmxjFPxTK_Y4"
      }
    },
    {
      "cell_type": "markdown",
      "source": [
        "Preprocessing"
      ],
      "metadata": {
        "id": "oIgLuxQOMJ3z"
      }
    },
    {
      "cell_type": "code",
      "source": [
        "import pandas as pd\n",
        "from konlpy.tag import Okt\n",
        "\n",
        "# Load the CSV file\n",
        "data = pd.read_csv('articles.csv')\n",
        "\n",
        "# Initialize the Okt tokenizer\n",
        "okt = Okt()\n",
        "\n",
        "# Define a list of Korean stopwords\n",
        "stopwords = ['하다', '했다', '한다', '하는', '이다', '있다', '하지만', '그래서', '라며', '이러한',  '대해', '라고', '은', '는', '이', '가', '도', '를', '에', '의', '와', '한', '로', '들', '으로', '하고', '에서', '까지', '에게', '것', '수', '있는', '그', '그녀', '저', '할', '를', '이', '과', '또한', '그리고']\n",
        "\n",
        "# Preprocessing function\n",
        "def preprocess(text):\n",
        "    tokens = okt.morphs(text)  # Tokenize\n",
        "    tokens = [word for word in tokens if word not in stopwords]  # Remove stopwords\n",
        "    return ' '.join(tokens)\n",
        "\n",
        "# Apply preprocessing to the content column\n",
        "data['content_preprocessed'] = data['Content'].apply(preprocess)\n",
        "\n",
        "# Check the preprocessed data\n",
        "data['content_preprocessed'].head()\n"
      ],
      "metadata": {
        "colab": {
          "base_uri": "https://localhost:8080/"
        },
        "id": "j9p1MH1MMIqe",
        "outputId": "9ecd7408-5490-4990-9fb8-6b15961fe15c"
      },
      "execution_count": null,
      "outputs": [
        {
          "output_type": "execute_result",
          "data": {
            "text/plain": [
              "0    지난 21일 영국 런던 출발 해 싱가포르 향 하던 싱가포르항공 여객기 심한 난 기류...\n",
              "1    LP 많이 소비 영국 에선 분야 탄소 배출량 사람 400 명의 연간 배출량 맞먹는 ...\n",
              "2    미국 콜로라도 맥주 회사 ‘ 뉴 벨지움 브루잉 ’ 시작 창업 자 들이 1988년 벨...\n",
              "3    지난 16일 ( 현지 시간 ) 하루 동안 아랍에미리트 ( UAE ) 두바이 기록 적...\n",
              "4    기후변화 때문 스키 시즌 점점 불확실해지고 . 그런데 최근 과거 인류 방식 을 되살...\n",
              "Name: content_preprocessed, dtype: object"
            ]
          },
          "metadata": {},
          "execution_count": 3
        }
      ]
    },
    {
      "cell_type": "markdown",
      "source": [
        "Vectorizing"
      ],
      "metadata": {
        "id": "WH6zSLfLMYVB"
      }
    },
    {
      "cell_type": "code",
      "source": [
        "from sklearn.feature_extraction.text import TfidfVectorizer\n",
        "\n",
        "# Vectorize the preprocessed content using TF-IDF\n",
        "vectorizer = TfidfVectorizer(max_features=100)  # Limit the number of features to 1000\n",
        "X = vectorizer.fit_transform(data['content_preprocessed'])"
      ],
      "metadata": {
        "id": "UZT-e_QhLJDt"
      },
      "execution_count": null,
      "outputs": []
    },
    {
      "cell_type": "markdown",
      "source": [
        "Applying the NMF model"
      ],
      "metadata": {
        "id": "_B73gjNzMbR6"
      }
    },
    {
      "cell_type": "code",
      "source": [
        "from sklearn.decomposition import NMF\n",
        "\n",
        "# Fit the NMF model\n",
        "n_topics = 5  # Limit the number of topics to 5 for simplicity\n",
        "nmf_model = NMF(n_components=n_topics, random_state=42)\n",
        "nmf_topic_matrix = nmf_model.fit_transform(X)\n"
      ],
      "metadata": {
        "id": "AfXyBKLfMEn9"
      },
      "execution_count": null,
      "outputs": []
    },
    {
      "cell_type": "markdown",
      "source": [
        "Displaying the result"
      ],
      "metadata": {
        "id": "zEdHv9KyMgcQ"
      }
    },
    {
      "cell_type": "code",
      "source": [
        "# Function to display topics\n",
        "def display_topics(model, feature_names, no_top_words):\n",
        "    for topic_idx, topic in enumerate(model.components_):\n",
        "        print(f\"Topic {topic_idx + 1}:\")\n",
        "        print(\" \".join([feature_names[i] for i in topic.argsort()[:-no_top_words - 1:-1]]))\n",
        "\n",
        "# Display the top words in each topic\n",
        "feature_names = vectorizer.get_feature_names_out()\n",
        "display_topics(nmf_model, feature_names, no_top_words=10)\n",
        "\n"
      ],
      "metadata": {
        "colab": {
          "base_uri": "https://localhost:8080/"
        },
        "id": "rUR5sFxJMXEU",
        "outputId": "3eb6603a-4ca2-47c8-805b-92bcdb647c64"
      },
      "execution_count": null,
      "outputs": [
        {
          "output_type": "stream",
          "name": "stdout",
          "text": [
            "Topic 1:\n",
            "인공 연어 이번 인해 많은 북극곰 지역 기류 따르면 점점\n",
            "Topic 2:\n",
            "메탄 배출 대기 발전 가스 배출량 되는 보다 세계 그런데\n",
            "Topic 3:\n",
            "합의 cop 화석연료 국가 이번 기후 연료 대한 단계 세계\n",
            "Topic 4:\n",
            "지속 과정 기업 회사 배출량 가능성 때문 전기 사용 우리\n",
            "Topic 5:\n",
            "하이브리드 전기차 구진 연구 생산 배출량 설명 기업 영국 전기\n"
          ]
        }
      ]
    },
    {
      "cell_type": "code",
      "source": [],
      "metadata": {
        "id": "fxqcfknUMfxK"
      },
      "execution_count": null,
      "outputs": []
    }
  ]
}
